{
 "cells": [
  {
   "cell_type": "code",
   "execution_count": 1,
   "metadata": {
    "collapsed": true
   },
   "outputs": [],
   "source": [
    "from tetris import Tetris\n",
    "from random import randint"
   ]
  },
  {
   "cell_type": "code",
   "execution_count": 2,
   "metadata": {
    "collapsed": true
   },
   "outputs": [],
   "source": [
    "import matplotlib.pyplot as plt\n",
    "from matplotlib import animation, rc, colors, image\n",
    "from IPython.display import HTML"
   ]
  },
  {
   "cell_type": "markdown",
   "metadata": {},
   "source": [
    "Visualize game states:"
   ]
  },
  {
   "cell_type": "code",
   "execution_count": 3,
   "metadata": {
    "collapsed": true
   },
   "outputs": [],
   "source": [
    "def animate(states):\n",
    "    'Creates animation from states list.'\n",
    "    fig = plt.figure()\n",
    "    ax = fig.add_subplot(111)\n",
    "    cmap = colors.ListedColormap(['black', 'red', 'blue'])\n",
    "    norm = colors.Normalize(0, 2)\n",
    "    ax.axis('off')\n",
    "    images = []\n",
    "    for state in states:\n",
    "        well, score, is_game_over = state\n",
    "        sc = ax.annotate(f\"score: {score}\",(1,19), color='white')\n",
    "        image = ax.imshow(well, cmap=cmap, norm=norm)\n",
    "        if is_game_over:\n",
    "            go = ax.annotate(\"GAME OVER\", (2, 10), color='white')\n",
    "            images = images + ([[image, go] * 3, [image] * 3] * 10)\n",
    "            break\n",
    "        images.append([image, sc])\n",
    "\n",
    "    return animation.ArtistAnimation(fig, images, interval=50, blit=True,\n",
    "                                    repeat_delay=1000)\n"
   ]
  },
  {
   "cell_type": "code",
   "execution_count": 4,
   "metadata": {
    "collapsed": true
   },
   "outputs": [],
   "source": [
    "def play(player):\n",
    "    'Plays tetris with player and returns list of states.'\n",
    "    tetris = Tetris()\n",
    "    states = [tetris.step(0)]\n",
    "    is_game_over = False\n",
    "    while not is_game_over:\n",
    "        state = tetris.step(player(states[-1][0]))\n",
    "        states.append(state)\n",
    "        _,_,is_game_over = state\n",
    "    return states"
   ]
  },
  {
   "cell_type": "code",
   "execution_count": 5,
   "metadata": {
    "collapsed": true
   },
   "outputs": [],
   "source": [
    "def random_player(well):\n",
    "    'Returns random action.'\n",
    "    return randint(0, 4)"
   ]
  },
  {
   "cell_type": "code",
   "execution_count": 6,
   "metadata": {
    "collapsed": true
   },
   "outputs": [],
   "source": [
    "states = play(random_player)"
   ]
  },
  {
   "cell_type": "code",
   "execution_count": 7,
   "metadata": {},
   "outputs": [
    {
     "data": {
      "image/png": "[encoded data removed]",
      "text/plain": [
       "<matplotlib.figure.Figure at 0x7fd3d0790128>"
      ]
     },
     "metadata": {},
     "output_type": "display_data"
    }
   ],
   "source": [
    "ani = animate(states)"
   ]
  },
  {
   "cell_type": "code",
   "execution_count": 8,
   "metadata": {},
   "outputs": [
    {
     "data": {
      "text/html": [
       "<video width=\"432\" height=\"288\" controls autoplay loop>\n",
       "  <source type=\"video/mp4\" src=\"data:video/mp4;base64,AAAAHGZ0eXBNNFYgAAACAGlzb21pc28yYXZjMQAAAAhmcmVlAAAz6W1kYXQAAAKuBgX//6rcRem9\n",
       "5tlIt5Ys2CDZI+7veDI2NCAtIGNvcmUgMTQ4IHIyNjQzIDVjNjU3MDQgLSBILjI2NC9NUEVHLTQg\n",
       "QVZDIGNvZGVjIC0gQ29weWxlZnQgMjAwMy0yMDE1IC0gaHR0cDovL3d3dy52aWRlb2xhbi5vcmcv\n",
       "eDI2NC5odG1sIC0gb3B0aW9uczogY2FiYWM9MSByZWY9MyBkZWJsb2NrPTE6MDowIGFuYWx5c2U9\n",
       "MHgzOjB4MTEzIG1lPWhleCBzdWJtZT03IHBzeT0xIHBzeV9yZD0xLjAwOjAuMDAgbWl4ZWRfcmVm\n",
       "PTEgbWVfcmFuZ2U9MTYgY2hyb21hX21lPTEgdHJlbGxpcz0xIDh4OGRjdD0xIGNxbT0wIGRlYWR6\n",
       "b25lPTIxLDExIGZhc3RfcHNraXA9MSBjaHJvbWFfcXBfb2Zmc2V0PS0yIHRocmVhZHM9OSBsb29r\n",
       "YWhlYWRfdGhyZWFkcz0xIHNsaWNlZF90aHJlYWRzPTAgbnI9MCBkZWNpbWF0ZT0xIGludGVybGFj\n",
       "ZWQ9MCBibHVyYXlfY29tcGF0PTAgY29uc3RyYWluZWRfaW50cmE9MCBiZnJhbWVzPTMgYl9weXJh\n",
       "bWlkPTIgYl9hZGFwdD0xIGJfYmlhcz0wIGRpcmVjdD0xIHdlaWdodGI9MSBvcGVuX2dvcD0wIHdl\n",
       "aWdodHA9MiBrZXlpbnQ9MjUwIGtleWludF9taW49MjAgc2NlbmVjdXQ9NDAgaW50cmFfcmVmcmVz\n",
       "aD0wIHJjX2xvb2thaGVhZD00MCByYz1jcmYgbWJ0cmVlPTEgY3JmPTIzLjAgcWNvbXA9MC42MCBx\n",
       "cG1pbj0wIHFwbWF4PTY5IHFwc3RlcD00IGlwX3JhdGlvPTEuNDAgYXE9MToxLjAwAIAAAAHVZYiE\n",
       "ADf//vbw/gU2O5jQlxHN6J0zH78VuLo0N73OAAADAAA33OZE/sqTBubAAALgG+R14s/v8wBu74RJ\n",
       "IvFTH0bAdF5OwfeRUJNtxW6rh2+g0YYtr2UPrht5CRJF5UF/7m3jP9q4+uh6HYaCL1lZ66jJk2Kp\n",
       "13QRfwCxx3EVlnrXQzKnbMJJAABh0ya2zpFzXn9j+k3s5yUYHeA/URpcowBLtpeYQAD+yuMXdTLw\n",
       "lvSpJIhUxQvEvMckyhWRPSdKZvUIWydlq6R7XceNrspMT+Uk3ce21q0hPjTSEYnIzpav2TrT7vy7\n",
       "EcW9W+s88Vb9rIH9BWGgaDrGY6uvcehAXJmkoONgLx1LBJ9dEem7CzgcDF8d6iXW9Zv/o2VY2vnl\n",
       "WyQFK20PI/v3vv2o7/mpJCf8SP1BDRlIP1Cs/oBU5d2d7CmD2hUpULnTKx4rBRGkPZiwpr4YhwqY\n",
       "ABZQ/+TtNd1yq1HUrZrvglekTpli4zxg5aH7I7loc/9VSEaHSx3vvNODyL4Vaaobu3BmTsCPer3J\n",
       "oAiohr/X5X8g9MfCodY1LYnNi6BgSi6x4Q9VoDXauXtsf+r2pNjr+Ihn+LAFIL5xa6jslI4eL3XE\n",
       "MWjXgAAAAwCjgQAAAHVBmiFsQ7/+qZYAwvV76AFX857qlxfel/c4ztQvOx/+1CJfECeAzU0/rlnv\n",
       "LV40z06DH/VEvxSrIMXeGw4bJuM9VkLDS8XHDcU4ertjNLRlQh4YB8upI+/VKXAX4Q3ZBh+bS8vA\n",
       "zwywOJ8QUsr3cS4vhskFAYMAAABgQZpCPCGTKYQ7//6plgC3fEFpdlRKJey96SZRfz8QUQSkwuac\n",
       "BpNCr/udWdP/YcDgXKraRwy+BJbF1YosIr5M+F9C1wBYFhMv4Tt+u1MsTYFuMnJ6yy17n2rVgeJW\n",
       "YQVtAAABfUGaZknhDyZTAh3//qmWALGKts8AG0lyz3ORc2fr9Ux0T8CdWaUb/65Ble02DmHyIzA1\n",
       "kkWZXEf210vcgyjvNNtpS7pIYKbDqaqaD1pvznehBPfKotjhsA9GOFvNPI1pxC39nvBB/mxnSXIA\n",
       "Bfb/ZwI5VeK39FNjTPRth1XP1MuH3n9XxtUXhFxhcQDxq8W0nb8B15Wvag/ytgZN9Z1TonGPG7zY\n",
       "uBFaDWHiVErdCwSVHKtoipLMFUeveIt+rFhsD+QCHr0959WxyyMShZp8Bq+c5vTlgVDvWaziXvTE\n",
       "JjXUqk2OA0nZPvwYAksMGbDahjZxXTP1jh1tgYgSzM3NnHJ+v17NaByXN76lOKmYX2sLycAGkTW5\n",
       "gsxjHQtXXR3pCXEEQ5vJ2MXDgJAcd94wq3oR1U8eN3eUDU5FaM0hG4Pox4uIl6EmPUT2gLN/tNaD\n",
       "/17FBvIHxt0yLERFQw+YHgNjqGwxCVEeUXI8iicXI0pqUZvHbK+8bOx0zPRZgAAAACpBnoRFETwz\n",
       "/wFvK2s8Y5CHz6XstzgV89/0ZEotOPHKOACs+pbQMEUWoYEAAAA2AZ6jdEK/Ao/QvIkVfRMtrdTi\n",
       "bsAKvaar6JVaPMWaWSQ2JHYfMOOpfeC0yY0ixxZKltHJzeTBAAAATAGepWpCvwKRX+ww50AGnVeB\n",
       "r8+f/zk5YRf9P8eFj9bz4P8UUm6ayW0Z4xTvhS4pMsfblDvuRuGiP+YIvU3jZTY01JQuVYjZVL/H\n",
       "AEEAAABFQZqnSahBaJlMCHf//qmWALCugVwqKbOqLLe0B0I7wAK8d9EsvgmIe7DGOkbXURwqCAdg\n",
       "WP0lHJyxFoA+rMoRTRVKB1gxAAAAOUGayEnhClJlMCH//qmWAFd+FbXincvCJ8AGSg6yGEjesa4O\n",
       "gUrPVM9duYobjo4vdSDEYomB1pQGVAAAAMNBmuxJ4Q6JlMCH//6plgArvwra8PUO/BIloivn/uGj\n",
       "H4AXSafRnE+61s4btHzsbXjrenRjIOnOri2+7pnYVW6eKyrumRJHYmgA6OJPZPtQ/7ZboOxRMWvt\n",
       "6h/lm2GB5YzDB1Y+1LFtr4pV/H/Pc6aXVdFDFaQH75ROZw+J7FJzESX6Bqzv68mxsPkwdHJrcZcb\n",
       "Z0KtYvGy6/jUnGQuYsgACQ5fOrKBhAJs2M57fVYV4KiqcsFfkjSB9KadqQt1iV+uRLwAAABqQZ8K\n",
       "RRE8M/8BbytpFzslPhEn9MI5yxbcvThKBDgBatjFm3nu0bhvejl2vFbsvm+qgMuXp9QejqMSnYFd\n",
       "7UgGJhal5EPk6rHaH+2L8vq1eH3ibOfgU0Imi6f6EeHgrLNnO7XaXqJ9GjDi/wAAADoBnyl0Qr8C\n",
       "j9CrhJNMmIyuYA59gtDze2kCBw3gqkFkgY5Av1acOfk3i95KLa4RZYPwYoBEVcnDnFlAAAAANAGf\n",
       "K2pCvwKRX7uMbQumHY1oJEuAOeFLTrvosnyZe+4n3Mn7srSpQ71Cvfntuq4iW5CfTcAAAAC/QZsw\n",
       "SahBaJlMCH///qmWAApfwra8V+70F2y7e1lU/x1W9UAJXdtcXt8ZwPrS945lBCRDNnyLjpqoB8E5\n",
       "1vaXQ8U03Ve67AvGJZEBD+X/V3m4L4kkDeiYM6IeQjYsDa2hSTfr+cAUWzPb3qzMAdsAwqaFQW0L\n",
       "e5PFi/CY0AG5vhJxAEmPKLN3egSSlcd/5tcgWBsncwSCWOeFYg28GznJUm9cQ74z/zN+BAFWpY1D\n",
       "xJnZmNAPXTx97072piWN+0EAAAAqQZ9ORREsM/8Bb01KleTAhYlKrrXTeu6DejxWEQd08rTUc6+X\n",
       "Tw+rJdKhAAAAOgGfbXRCvwKP0KuEpzd6t6YL1liSMAQUtN8KMAqSVx8lrqx+6U606k1RpICLBtHD\n",
       "hoI91vrevyVADi0AAAAdAZ9vakK/ApFfu4xqaHVRxVAxl2P9WisweU8sIqAAAAC5QZt0SahBbJlM\n",
       "CHf//qmWAAFU+AbN2tjNB9jl0tr2Nt2+DqVq0Qz2s+6Nzwsc2APZr4JczxtvxYCfI+7BTmEbr/yp\n",
       "NWbxpWY2KH+1E/CiGny0/5HoCL+dFNWUyeOoOzA5FRxg02SI//h/kqkGsnxgp1hM/+HisLSsxj8o\n",
       "0JpYoIYRv8EJYotQmHzgdDD44VFfklVGd447Vz/S2ONKq+RpE3ksPrqSfm5/+JzB8dBFNy9gGcGN\n",
       "RQRTTXAAAAA1QZ+SRRUsM/8Bb01KleS8TwqfNBEKJtkD8dDsmE0BE8Mp6h3SqR7r23vxMGCDlIiy\n",
       "WZY6usEAAAAuAZ+xdEK/Ao/Qq4Slo06b7WOE8wSEwAAarDFnYCCzrOHgBq6+dfpVW/Iqa0s7gAAA\n",
       "ADEBn7NqQr8CkV+7jGogN4wPDcnCSaajWDyc/QAqwbfn+HrMaHZhMCXsORDWHerj31eEAAABWkGb\n",
       "uEmoQWyZTAh3//6plgC2G4uAAUt9QvH5TuP4PVKSwBH+6aPvKTuaJjBXzI/8l2GjDUBWcaL8peZc\n",
       "QJ7J6Cwg38zpET+OdY5090Y4mYgs/55jvUp2yoiifIJSDKKxEvPjUefjMd23A/4RHcjsTcn6oLUj\n",
       "6AkJIo3emkRvB974XRcRKV1AfZ4eKk+vCkjqyreujll3AY9H+20CfSfZ96usH1q0IHmaEZM6ko9m\n",
       "NK5CfHHIwC/a7jYw8ptDvHkGQSHGHlzpeGcWTET4Y8miSeAIyzMK7hMq+Wrfn2UeSIemTz3wi9+E\n",
       "iWq0vkmfMIccTmvGwQv9VDJb/4pz0zKCE6sMgMuejma3nzk9AToxFy8nAwrpuNxHkD8byzhCk4m/\n",
       "e7qD/oHPOvRko5ke+Yc+SPnPrD4MPSglFYTnhD86sl3Jg/+4r65eHccl3oaBFu1jhK0yE50VxoMq\n",
       "YcEAAAB7QZ/WRRUsM/8Bb02N8xvQhJWMneIuXSRaS5K63T7ugnNPWQJc0fO+IAP7Lp4XxZmPB0jl\n",
       "rsxRiSu7S/ueDMrqQxI17pdnVr15Zt3v/PgDTsXKTW9Hh92VdW1BTfyt0wzzyiiwtfNCZ3elpIy5\n",
       "HgWWgPR0nM5XaMa5LyZ4AAAANgGf9XRCvwKP0KuEpW9p0/LCBTpu4g4d6N3Gk8J8WsiSj3i8Z9cv\n",
       "oIkKBvke1Mxwl6HJVio/wQAAAB4Bn/dqQr8CkWK8KYQ/pE1Anq8MAmnEt2mPMROjV4sAAAB9QZv5\n",
       "SahBbJlMCH///qmWALd5+gABHwhLDDXqd+Mks7vMeVPvBufe92Nnfy2zFmQ4+mp9r5iMYFUx/GZK\n",
       "s6I38cJfbkkfWObcfMlJtLuqR4aEESbv/2HMm/L2uH2Dkh91/ttz8bKE/2fn8rkb+jyiKzre6N9e\n",
       "Z/ZfN5CpcUAAAACOQZodSeEKUmUwIf/+qZYDN7pTg4+/bZj92Cn8RmJBSatZPU/sHiCNgApTf2YP\n",
       "jGJdOyODq3QV/jpyDKbAEKbrl2GFDgKVbpOZ4vzYjW/q2qnlYggbhgxzLoqbF9ZVVeXjd2PFRqq1\n",
       "qkOymrJcV+b+Jgr3dIJgA+/4eOnVmYzdP0QEOH5oFW1ZtED4uuQsGQAAAHZBnjtFNEwz/wFvK5Dm\n",
       "WQoAiPmKc7i2lcCHPyywASJeGO30w3eRJW6AJBkBf68Iy68X4lhwnHBKK501X/eyYui5zgGl2Waf\n",
       "/53wrmIer67w/oSR3yCMBD6tR5xXN90hcSHzi1qaYE7G6tv+dxW0AjXIFuOgcAccAAAAIQGeWnRC\n",
       "vwKP0s5TYHT2ZAhOMAwaWrQsY4eBiG+YvXIi7wAAAEgBnlxqQr8CkV+7VWQ1Li3VFcwBHZ4qQItz\n",
       "unjUJfPAoA1eSCFtaLpogiy2ChJNECuBknZHXVnKO6EKmBtidDv/UVv/LGs5G/EAAAESQZpBSahB\n",
       "aJlMCH///qmWAFk6f3AAN5v/8DSZ5k5Q2EG8nwE4E3UtX3viOT++pdgp7ve35DfAZjpyZATNc70J\n",
       "KzVubPTxmr4r8Q9TiqYPGd/8MAb3vxMz6rCJCXBPPnmpMAIeuQRcfM2qfR+hbY4H96XN4qK+vA2x\n",
       "ujLef+oRiSVSUJulQABDKbJO3dykwlqVQEkNg1BNJFh/XCUk8mS5uMX9feP/2bFo+dUJEZR5PDz7\n",
       "ScnFYZM+G5x7FiQ+d9IVIQlVLYGgLCrLs8B/Js5k+OQdxpChLYQQZ8neobd8xCVuhtqPPES2GQk9\n",
       "32GcQOF11suEVsvWYeyH9gXkkMk10RDjJtWktBoKEpziVv7iKncVgAAAAGlBnn9FESwz/wFvTY42\n",
       "i6NSQAUoS3oGBNk/g9RzHAAX6Foq8pF57/hDkXv0FRWsLVbD0XXpalIM0sHsSdUG8DayLgF/1eBG\n",
       "I9JDOwpTIdxnol+ExjfEtLULKAoc80EMFN9pbRAw1DFOR1IAAAAhAZ6edEK/Ao/TfxG2G80YrNRH\n",
       "NtuyvJQKW4WhKx/tH+1BAAAAVAGegGpCvwKRYovFgQAhivsAIATiZx4wG3QNHJcjDp5BNu+4KnRl\n",
       "0q/1il7RPHjvcme1afm0BZA6iWZXckvLKe/85WQ8QBm1XBItTaAeszF2fmuG4AAAAKlBmoVJqEFs\n",
       "mUwId//+qZYAWb4Bs3Xl2waNeaqJx0t5WtINzJMUAB1qBqgOwAikByzPcA5RpNwPwZri/rcD/3g7\n",
       "ShAyfvEsiVeBOX0Pr5sfdjD6ofCCEse7Sn2BhqglMr1ra+xbOOrfS8Fu0vIu9ox7P6KdCEOcqTiK\n",
       "DGj58APICXHvUnfJsUBBdm4BywzhEhpZ72NYn5k9Q+2jGVE0qEusNAinOMvSUGJxAAAAWkGeo0UV\n",
       "LDP/AW9NS8rsWO8CcTMOPFfLqyPAJpL/jnoUxLM/JBygaBroFR7LkDjSX2GMRPvMlh19tOUOFdvQ\n",
       "h6Y8GzBbK3RV+yzEoLduvdiOcdHAKg6Mw4FC2gAAADMBnsJ0Qr8Cj9C7iRV+AaVTvruvR9hnyABq\n",
       "iWS/muVfHRbkVUenkx8RsShgOBSIwwcn48sAAAA+AZ7EakK/ApFfux6C/3aAQ28rXwGo1Src4yHL\n",
       "pnPhDQA0b1ipaTWM88AOCU7Hy0e0ntkecPPDZES1bcdpXHEAAAF1QZrJSahBbJlMCHf//qmWALdn\n",
       "P0yP4MgABb0W+6g0Dn8E6pE8A+vx16F7uAoLTEoczcJ71g+4MbZ7xTt7ykwZCeaPEFS7n2M3bgyF\n",
       "eWIklPyD/bGHuPZqwxfE6rfXzXfTWrtmsr0Lqvfe9naU+Ne8QesThRAA5NV7vSQxLOnM6tsLyt/i\n",
       "6O4E0YReuJgZenz7QkieQ65CeOS9tUKGA7VszsILEUxIOBdyvn8lec22hhvlCfeg/tsKsI5EINPj\n",
       "RNeQteMxswvEkvQWyk3Tro128z6b1zIsW5zevDr4xqtKeoDXDVtxeTCys7efduwgz39uuTWrXo/t\n",
       "KR8TPzm+Svo12oo9haVLL3S1rEGWDikejcNnAYU2ihzWYEq5JBmcz7VJe06APQ6Kyv3pj0AI7mL8\n",
       "L+NC2KRtpRP0jK2r/D37z8T4yWTiEAE/AhmE/oJA0iJLMloNITh+cZmM/wtwSQBbUltQI42pj9bZ\n",
       "6f/2pZcKpoXQTMcWFQAAAEpBnudFFSwz/wFvTU4yH7p5zE+xH6J6lt9ELrjcY5m3X+GCXZ7pnQPv\n",
       "Ked5OpBpsBfRikzVXonCXHpgAFZ2SD8EtSGt4aGP42/QQQAAACIBnwZ0Qr8Cj9Db+0rsSa6eTlvf\n",
       "MuMqZKXK3dU6qXApHF3AAAAAIAGfCGpCvwKRX+wFO59oeH0MXOHT1wENQHD7hLnFQcccAAAAgEGb\n",
       "CkmoQWyZTAh///6plgC3Z3/8H0HABlqBxQkBS0lmug8qf42N+1E/RVHsaC8IpjiiLs1xcyoidJ43\n",
       "QBJ8GTL+acVc+4XQhbdcYz77Lup4v2EvSu56IzoHlyW1+Rkos1d5sDTgGKZXdcJZ/iUyzxAVbo76\n",
       "RBpmGzSOsB+FApUtAAABJkGbLknhClJlMCH//qmWBBeFbXih2vEULueAhUbRn/BPiQKoiEru4VoC\n",
       "qbKE725vqhWxuvpjZfLTKNLNlsZEVZxqaDthuA39jUXIMnHxGKZJF8noFtbbIWIbUgl0VVPH12BX\n",
       "tQMX4v9icrUvLXTwm8vVfkOPhnc/+zEpFhsbkSRyuwmCdK/v1mOCbb7dq0sJpV/7MILDl15p30nk\n",
       "EnGS0fOE7qU/s0SZ+fStom55Cg9mKsup8gAyH3/C5um8U3/sRafe1IwgEey4k+pmWR6vRQvC3/mG\n",
       "Nv/L5yJCJuLLK7Yk35q4dkyYjzNhvD1H8k6Cl8ofXCpVMyDNMD8jlQBB+hF7ngMhSRYRgioBnkyB\n",
       "8XTOPzSoNx+eoPrvf+M5Bg1sM5/YQK/7ygAAADNBn0xFNEwz/wFvK4vsPvgPtIMonApTdCMXz0v4\n",
       "uC6Ep1Yr6WrgES1NwR0TzxjUgBacHzAAAABHAZ9rdEK/Ao/TU2xsI5Nf8z7dS0e0UQnC77jZlP2u\n",
       "wA3frVrmhJ0TnennLAvnQZYmtdkl9ClQk55VJb4M0QjWrchM/+TvPSEAAABWAZ9takK/ApFf6x7P\n",
       "bDj7DsAGojcWzZ8/+cnLCL/p/jwsfrg8i+xCYD/EWSqgkeqjPBbfjOeLlwlzYyxvpyPsYNquA95S\n",
       "C9PZlawgTlBD6ak+/yT+h80AAACtQZtySahBaJlMCHf//qmWALYugVwviOvBS7vtm8cnsqfAAHS/\n",
       "/5kQ/CW8ZgVdL+nQ9sg+l3Oe8jrpQzfjot6XHqkAzG+8qjHCp3YSAxdftNjjhEvmv5VM60NH8AZO\n",
       "8wFrSUG6cFSzdyd9SpbIPeYDhyX0b3s+RKSueEjcQiTvkasbkdNJnNRXFRwaD/6sg0lNfeHdxIPp\n",
       "/E6qyiK6OfNQvTdLAMqhYCu3aexCq38AAABSQZ+QRREsM/8Bb01ONNR/rxVx0t3a7EAJMzKvrsvo\n",
       "6D8NwTyGinKsXkLGFQ5Bmdd66hLnZvwcFHBJnFiRpbYoJgPo1UdRkl57XPgMAPksgIWi/wAAAEUB\n",
       "n690Qr8Cj9Db0iu4d+VMaeV3bqv7Ug3Vij/AA4/WrXNCTonO9POWZS+c4H8CBVpMO89TqWZxynng\n",
       "uimT24c5RYQtJOAAAAA7AZ+xakK/ApFfu4ZbTlOrhc30R+S7+CAGyzTVhkyXLhbHcYjpIOtdu0U8\n",
       "A26/zTv8ErTg9N58ujW01IEAAADfQZu2SahBbJlMCHf//qmWAFv4W+CDX3AEQBgE69iIfwY/lafR\n",
       "Of+qgHeXZX+slUs6hEYRX08+7tZrQrJ1gEPnZRBAGW9kSBMH0kryVge/y8e8ZHp2pcvTWJqlaSYC\n",
       "SZbMQGL0OlU5rnKpv/OTaEemVIm3OTvnWg1iCWql/O15pjN39Tu2bMZNVb8QPaA2fFrV/zRF7peL\n",
       "hzwq21VKJ1L0K26IDAw5Yr/tzormJKxlEGPbAthjONt4W4AG1x7+oNoC2bs+bz685JeSZYKdhg69\n",
       "wodK+0GihB6Q2z4KsMbOwAAAAF1Bn9RFFSwz/wFvTU4nPnN2CvHABjiG3EwqQocUJu7m/Hjteaho\n",
       "D0fS2bpklA4obwNctKZYWWzoYFT/rr3Yo8w7olhIPf19L+F5Au5N60u5Y7Q4WeiiHB8JbJjtx+YA\n",
       "AAAlAZ/zdEK/Ao/Q2/tLdHvyljnT1F3jZQWJmOERw//2wYyAFqhtSQAAAEgBn/VqQr8CkV/r3UPQ\n",
       "AadMsuAMBTop+lwH3v8IYnunFvNtA5drcBQCVUebPVix80sULUB5a9q/WxcCQdRhpi54qZeTmqOE\n",
       "m7AAAACMQZv6SahBbJlMCG///qeEALX7wlpwIlElt3Rocm0cpfwWVQIAcUVPwxx4uBJGkxnkVBzA\n",
       "M4Lo5/B2pmMoupwb+Fk0n7JTBCaYabGtsj3HsVlyh2jm/9ryZ9IijDBG/yM10pkL5qmH2PuoJwgv\n",
       "R3KAJsIADVc2e03Bd37RGJaP0HjAAwlPdatF2E1lPxUAAAB3QZ4YRRUsM/8Bb01L2uxY72iI8Tb/\n",
       "wEF37wfcMK+KbMMLouw+sMH6FOZ6FuC0lCRr3wTHlyFDzrMQ+67RVouItjVfW8CObmhiQqzd1b5a\n",
       "I0EcRksEsobEm4Lvr2041+6o3xb0Ok7cRCIQyGx5rIBd2bK5/I4VMOMAAAAtAZ43dEK/Ao/QvIkV\n",
       "fg30qk2pM0AQEIMiCECLbra3BEFzehsqLrZllntoiU1IAAAANQGeOWpCvwKRX7wGXupqEg8yWYz4\n",
       "pGFACxfYreyPOQtNi+T5xteI3OEhk/HlwMvmJ+ZKP7kbAAAAbEGaO0moQWyZTAh3//6plgC3Zz9M\n",
       "gGIwAFMlU0IhUwA712zyZ+hdDlqOSrLw78XlK7q3Z3Y1DaE0B5NzRHl8UcVSgpuvaM9HBVDjaKWj\n",
       "lfyl/9mh2KSmjUfULdGeDn6vvt8R096sShnpoFxWgAAAAM1BmlxJ4QpSZTAh3/6plgC2LoFT7v6i\n",
       "RDRCXHgAJqP/8QNMKH4w9UzOlKeanMDA2rGgqWDzB/RwE51ow27qSYRCaUGrRvZeovppW3kMCht1\n",
       "nfn/4eirPI18YD9zqFoKKUpvVEc1wRrQjYoLkVLdNLkmbQEuzbl8hsXgubyFAxynADK0Bb5lqREz\n",
       "7o3vFtpSE46t8HGb3rb21h90f/AA/z80DMUGciVIh/kE/oDg21WUkxu2oG/ZYfnVo0mBZJUo0/c2\n",
       "xerglm/PGe7FnNaBAAAAgEGafUnhDomUwIf//qmWALZ3z3AAEjSR9xlhCRQ1v7olzp/8QY/OEe7/\n",
       "TaW01IgtIzct7WMtwDNtFPPlOyisNwLjufpCqxbWTXhxodGTXWEu2KIntxUGYIJVotfhGWVB1J7h\n",
       "QNaJ6Mk2tzgfPoyBqsxaorCznqcJrmU3B6bS4grZAAABj0GagUnhDyZTAh///qmWALYuh9n84btp\n",
       "xADb6ErqVHgPTbIrIwCVN12tsWK+KGFMYeQNnldKKOFXAempB0IDXS6BH8MnQkY9dNIDdeTrkyYb\n",
       "Nj8EDKmcLhIkFwDB4Fm4VjnmI3rz5FIvWA/tyZYv+8H+Aelqdkcj6/X9ASe1Ygm29gL5uOVKrko6\n",
       "RZO1bSz2xav17AfVyJ0t+I8DbWFhknQkg8mslop3D+q+dTgH2pMIzm3v/8QNI4tEaVZxTakzHCVX\n",
       "IGud2Gk+enu1wHGgBcYbNno08pWGI8D/3/XKZIweo9eXHVT6V0AOA3f/DUT0gk9wLAGHYB5uDVRR\n",
       "LjMuc0b/Dr6ynCmwMAljwFVC0xgL+hKzvYu7oaBSpUalMenOy3PT9ZJEAf6mLxQRt2JNcJMB+L+T\n",
       "+ZfB3U2OrWbrQoAoG0cRLEDEZoVcbpWU1zHRVVavdBpwQZPX88GKCRhB4fp3sMowQW+3oeautVol\n",
       "td0pL60mju3QsqgAEkfTexD5qDnyjwB8odrfL8NuP+lKKAAAACtBnr9FETwz/wCaxWlh7Di79uon\n",
       "XvfiAG6AN3OZwoZbT/+uNfYsXXd8HhgQAAAAVAGe3nRCvwEec2KEPY1/BQnaM9c1SAAFlawAhe3F\n",
       "c1OHb9y92X/0KYueauBZgOUMWh7qJCvldq209iKxiGZCBGJ+/aoDdhcbIJMPMS+l4CDijvD5gQAA\n",
       "AEgBnsBqQr8BH4KgACDkJvjAwFOin6XClJZ18O/3ZVG0WgXurciUPDuVt/Y++l17DAX/7jXJIN4T\n",
       "phtoZphU5WMf2qeaT+lDxlQAAADBQZrFSahBaJlMCH///qmWALCeHYAN2HSkPwMgGyQjd/bt/ClI\n",
       "M7K7QxUPL9kHbK8ywNYNw8czStou8SPM9g+ftGHZg3tdQIzFcWq6lRVRyBIneVp3/NgQTwlsoBVi\n",
       "pXNSrSNUw/N+NnaCK3j4RV1QXP3DIvbIXu22s1Tw7dzUIXbE+wR8mlg6urVs3UUHiE+7YzJn7VLu\n",
       "3kyvPYw3QgpPzBXjLs6wUOxOlfG5pL3OroV4ikNtmbAY/fZwiU2svYm97wAAAB1BnuNFESwz/wEq\n",
       "YJ3B5Z6jLbN9Elfy5h4WjDqJDQAAAa4BnwJ0Qr8BBnQ9yTOsPR9Sb7fiL6mABOhC5/rqTM8ezysq\n",
       "q+NMCT7hqONin0XbkiBpLrEvVvMLXw9UUinS5RX6+5kDS/VCNitx2ZoNcYKZJLjm0Eej5PhFvgz9\n",
       "e8LgBWkn6XCUhhMVNkNYr59o6GHcCz00346UNaabWqYcVySVIjJSpR2uAXWaFjLlfUXTOq9uoO7k\n",
       "2tBxlbTilgW8DbwgiJOLXivKt9cALDAN3Gf3LMJ/v8WcvpjblkHR8Yh4+AUpjTDlFHwAHWoJoebF\n",
       "y2qKX6eM2CyNw4W5ko+pBeYFryi8xBKKZjJFW+nw+aqX/ZslPb5iNHDF8dGs1F6BCzbSB0bE6KUm\n",
       "0NYeKgPAzPZlOI9TYexvvOj7kyzKyhEO1F2wXVDcY1q/WyW0YdEXI3p6m6pvh0aNq8SFWUk/hh9m\n",
       "6bqNOGEaQKQFiILNUADKBsXha0wRnzOSf8kPOPS/0kktmSawA9OY9mFj+211a2lQ6e1RgQBTnXAP\n",
       "TbuCRmK00/Q0YjwbNHzdXzw4/ugpFviMfsjGIHknWwVUgn/mkB+yOi18BabEnNFbfRUjn6NnAAAB\n",
       "owGfBGpCvwAEalUZnEWuuAD9SDH+upMzx7PKyqr40wJPuGo42KfRduSIGkusS9W8wtfD1RSKdLm1\n",
       "fn3Mbqr9UI2K3HZmg1xgpkkuObQR6Pk+EW+DP17wuAFaSfpcJSGExU2Q1ivn2joYoV7PTTfjpQ1p\n",
       "ptaphxXJJUiMlKlHa4BdZoWMuYlG3RpUr2qDS9kL/Fw2nFLAt4G3hBEScWvFeVb64AWGD9qD/3LM\n",
       "J/v8WcvpjblkHR8Yh4+AUpjTDlFHwAHWoJoebFy2qKX6eM2CyNw4W5ko+pBeYFryi8xBKKZjJFW+\n",
       "nw+aqX/ZslMY5iNHDF8dGs1F6BCzbSB0bE6KUm0NYeKgPAzPZlOI9TYexvvOj7kyzKyhEO1F2wXV\n",
       "DcY1q/WyW0YdEXI3p6m6pvh0Z/fnPKspJ/DD7N03UacMI0gUgLEQWaoAGUDYvC1pgjPmck/5Iece\n",
       "l/pJJbMk1gB6cx7MLH9trq1tKh04v5FD0BEuAem3cEjMVpp+hoxHg2aPm6vnhx/dBSLfEY/ZGMQP\n",
       "JOtgqpBP/NID9kdFr4C02JOk3dTBAAAAFUGbCUmoQWyZTAh3//6plgAAAwDwgQAAAA9BnydFFSwz\n",
       "/wEqYJlwBZUAAAGjAZ9GdEK/AARqVRmcRa64AP1IMf66kzPHs8rKqvjTAk+4ajjYp9F25IgaS6xL\n",
       "1bzC18PVFIp0ubV+fcxuqv1QjYrcdmaDXGCmSS45tBHo+T4Rb4M/XvC4AVpJ+lwlIYTFTZDWK+fa\n",
       "OhihXs9NN+OlDWmm1qmHFcklSIyUqUdrgF1mhYy5iUbdGlSvaoNL2Qv8XDacUsC3gbeEERJxa8V5\n",
       "VvrgBYYP2oP/cswn+/xZy+mNuWQdHxiHj4BSmNMOUUfAAdagmh5sXLaopfp4zYLI3DhbmSj6kF5g\n",
       "WvKLzEEopmMkVb6fD5qpf9myUxjmI0cMXx0azUXoELNtIHRsTopSbQ1h4qA8DM9mU4j1Nh7G+86P\n",
       "uTLMrKEQ7UXbBdUNxjWr9bJbRh0Rcjenqbqm+HRn9+c8qykn8MPs3TdRpwwjSBSAsRBZqgAZQNi8\n",
       "LWmCM+ZyT/kh5x6X+kklsyTWAHpzHswsf22urW0qHTi/kUPQES4B6bdwSMxWmn6GjEeDZo+bq+eH\n",
       "H90FIt8Rj9kYxA8k62CqkE/80gP2R0WvgLTYk6Td1MAAAAGjAZ9IakK/AARqVRmcRa64AP1IMf66\n",
       "kzPHs8rKqvjTAk+4ajjYp9F25IgaS6xL1bzC18PVFIp0ubV+fcxuqv1QjYrcdmaDXGCmSS45tBHo\n",
       "+T4Rb4M/XvC4AVpJ+lwlIYTFTZDWK+faOhihXs9NN+OlDWmm1qmHFcklSIyUqUdrgF1mhYy5iUbd\n",
       "GlSvaoNL2Qv8XDacUsC3gbeEERJxa8V5VvrgBYYP2oP/cswn+/xZy+mNuWQdHxiHj4BSmNMOUUfA\n",
       "Adagmh5sXLaopfp4zYLI3DhbmSj6kF5gWvKLzEEopmMkVb6fD5qpf9myUxjmI0cMXx0azUXoELNt\n",
       "IHRsTopSbQ1h4qA8DM9mU4j1Nh7G+86PuTLMrKEQ7UXbBdUNxjWr9bJbRh0Rcjenqbqm+HRn9+c8\n",
       "qykn8MPs3TdRpwwjSBSAsRBZqgAZQNi8LWmCM+ZyT/kh5x6X+kklsyTWAHpzHswsf22urW0qHTi/\n",
       "kUPQES4B6bdwSMxWmn6GjEeDZo+bq+eHH90FIt8Rj9kYxA8k62CqkE/80gP2R0WvgLTYk6Td1MAA\n",
       "AAAVQZtNSahBbJlMCHf//qmWAAADAPCBAAAAD0Gfa0UVLDP/ASpgmXAFlAAAAaMBn4p0Qr8ABGpV\n",
       "GZxFrrgA/Ugx/rqTM8ezysqq+NMCT7hqONin0XbkiBpLrEvVvMLXw9UUinS5tX59zG6q/VCNitx2\n",
       "ZoNcYKZJLjm0Eej5PhFvgz9e8LgBWkn6XCUhhMVNkNYr59o6GKFez00346UNaabWqYcVySVIjJSp\n",
       "R2uAXWaFjLmJRt0aVK9qg0vZC/xcNpxSwLeBt4QREnFrxXlW+uAFhg/ag/9yzCf7/FnL6Y25ZB0f\n",
       "GIePgFKY0w5RR8AB1qCaHmxctqil+njNgsjcOFuZKPqQXmBa8ovMQSimYyRVvp8Pmql/2bJTGOYj\n",
       "RwxfHRrNRegQs20gdGxOilJtDWHioDwMz2ZTiPU2Hsb7zo+5MsysoRDtRdsF1Q3GNav1sltGHRFy\n",
       "N6epuqb4dGf35zyrKSfww+zdN1GnDCNIFICxEFmqABlA2LwtaYIz5nJP+SHnHpf6SSWzJNYAenMe\n",
       "zCx/ba6tbSodOL+RQ9ARLgHpt3BIzFaafoaMR4Nmj5ur54cf3QUi3xGP2RjEDyTrYKqQT/zSA/ZH\n",
       "Ra+AtNiTpN3UwAAAAaMBn4xqQr8ABGpVGZxFrrgA/Ugx/rqTM8ezysqq+NMCT7hqONin0XbkiBpL\n",
       "rEvVvMLXw9UUinS5tX59zG6q/VCNitx2ZoNcYKZJLjm0Eej5PhFvgz9e8LgBWkn6XCUhhMVNkNYr\n",
       "59o6GKFez00346UNaabWqYcVySVIjJSpR2uAXWaFjLmJRt0aVK9qg0vZC/xcNpxSwLeBt4QREnFr\n",
       "xXlW+uAFhg/ag/9yzCf7/FnL6Y25ZB0fGIePgFKY0w5RR8AB1qCaHmxctqil+njNgsjcOFuZKPqQ\n",
       "XmBa8ovMQSimYyRVvp8Pmql/2bJTGOYjRwxfHRrNRegQs20gdGxOilJtDWHioDwMz2ZTiPU2Hsb7\n",
       "zo+5MsysoRDtRdsF1Q3GNav1sltGHRFyN6epuqb4dGf35zyrKSfww+zdN1GnDCNIFICxEFmqABlA\n",
       "2LwtaYIz5nJP+SHnHpf6SSWzJNYAenMezCx/ba6tbSodOL+RQ9ARLgHpt3BIzFaafoaMR4Nmj5ur\n",
       "54cf3QUi3xGP2RjEDyTrYKqQT/zSA/ZHRa+AtNiTpN3UwQAAABRBm5FJqEFsmUwIb//+p4QAAAMB\n",
       "3QAAAA9Bn69FFSwz/wEqYJlwBZUAAAGjAZ/OdEK/AARqVRmcRa64AP1IMf66kzPHs8rKqvjTAk+4\n",
       "ajjYp9F25IgaS6xL1bzC18PVFIp0ubV+fcxuqv1QjYrcdmaDXGCmSS45tBHo+T4Rb4M/XvC4AVpJ\n",
       "+lwlIYTFTZDWK+faOhihXs9NN+OlDWmm1qmHFcklSIyUqUdrgF1mhYy5iUbdGlSvaoNL2Qv8XDac\n",
       "UsC3gbeEERJxa8V5VvrgBYYP2oP/cswn+/xZy+mNuWQdHxiHj4BSmNMOUUfAAdagmh5sXLaopfp4\n",
       "zYLI3DhbmSj6kF5gWvKLzEEopmMkVb6fD5qpf9myUxjmI0cMXx0azUXoELNtIHRsTopSbQ1h4qA8\n",
       "DM9mU4j1Nh7G+86PuTLMrKEQ7UXbBdUNxjWr9bJbRh0Rcjenqbqm+HRn9+c8qykn8MPs3TdRpwwj\n",
       "SBSAsRBZqgAZQNi8LWmCM+ZyT/kh5x6X+kklsyTWAHpzHswsf22urW0qHTi/kUPQES4B6bdwSMxW\n",
       "mn6GjEeDZo+bq+eHH90FIt8Rj9kYxA8k62CqkE/80gP2R0WvgLTYk6Td1MAAAAGjAZ/QakK/AARq\n",
       "VRmcRa64AP1IMf66kzPHs8rKqvjTAk+4ajjYp9F25IgaS6xL1bzC18PVFIp0ubV+fcxuqv1QjYrc\n",
       "dmaDXGCmSS45tBHo+T4Rb4M/XvC4AVpJ+lwlIYTFTZDWK+faOhihXs9NN+OlDWmm1qmHFcklSIyU\n",
       "qUdrgF1mhYy5iUbdGlSvaoNL2Qv8XDacUsC3gbeEERJxa8V5VvrgBYYP2oP/cswn+/xZy+mNuWQd\n",
       "HxiHj4BSmNMOUUfAAdagmh5sXLaopfp4zYLI3DhbmSj6kF5gWvKLzEEopmMkVb6fD5qpf9myUxjm\n",
       "I0cMXx0azUXoELNtIHRsTopSbQ1h4qA8DM9mU4j1Nh7G+86PuTLMrKEQ7UXbBdUNxjWr9bJbRh0R\n",
       "cjenqbqm+HRn9+c8qykn8MPs3TdRpwwjSBSAsRBZqgAZQNi8LWmCM+ZyT/kh5x6X+kklsyTWAHpz\n",
       "Hswsf22urW0qHTi/kUPQES4B6bdwSMxWmn6GjEeDZo+bq+eHH90FIt8Rj9kYxA8k62CqkE/80gP2\n",
       "R0WvgLTYk6Td1MAAAAATQZvVSahBbJlMCFf//jhAAAAccQAAAA9Bn/NFFSwz/wEqYJlwBZQAAAGj\n",
       "AZ4SdEK/AARqVRmcRa64AP1IMf66kzPHs8rKqvjTAk+4ajjYp9F25IgaS6xL1bzC18PVFIp0ubV+\n",
       "fcxuqv1QjYrcdmaDXGCmSS45tBHo+T4Rb4M/XvC4AVpJ+lwlIYTFTZDWK+faOhihXs9NN+OlDWmm\n",
       "1qmHFcklSIyUqUdrgF1mhYy5iUbdGlSvaoNL2Qv8XDacUsC3gbeEERJxa8V5VvrgBYYP2oP/cswn\n",
       "+/xZy+mNuWQdHxiHj4BSmNMOUUfAAdagmh5sXLaopfp4zYLI3DhbmSj6kF5gWvKLzEEopmMkVb6f\n",
       "D5qpf9myUxjmI0cMXx0azUXoELNtIHRsTopSbQ1h4qA8DM9mU4j1Nh7G+86PuTLMrKEQ7UXbBdUN\n",
       "xjWr9bJbRh0Rcjenqbqm+HRn9+c8qykn8MPs3TdRpwwjSBSAsRBZqgAZQNi8LWmCM+ZyT/kh5x6X\n",
       "+kklsyTWAHpzHswsf22urW0qHTi/kUPQES4B6bdwSMxWmn6GjEeDZo+bq+eHH90FIt8Rj9kYxA8k\n",
       "62CqkE/80gP2R0WvgLTYk6Td1MAAAAGjAZ4UakK/AARqVRmcRa64AP1IMf66kzPHs8rKqvjTAk+4\n",
       "ajjYp9F25IgaS6xL1bzC18PVFIp0ubV+fcxuqv1QjYrcdmaDXGCmSS45tBHo+T4Rb4M/XvC4AVpJ\n",
       "+lwlIYTFTZDWK+faOhihXs9NN+OlDWmm1qmHFcklSIyUqUdrgF1mhYy5iUbdGlSvaoNL2Qv8XDac\n",
       "UsC3gbeEERJxa8V5VvrgBYYP2oP/cswn+/xZy+mNuWQdHxiHj4BSmNMOUUfAAdagmh5sXLaopfp4\n",
       "zYLI3DhbmSj6kF5gWvKLzEEopmMkVb6fD5qpf9myUxjmI0cMXx0azUXoELNtIHRsTopSbQ1h4qA8\n",
       "DM9mU4j1Nh7G+86PuTLMrKEQ7UXbBdUNxjWr9bJbRh0Rcjenqbqm+HRn9+c8qykn8MPs3TdRpwwj\n",
       "SBSAsRBZqgAZQNi8LWmCM+ZyT/kh5x6X+kklsyTWAHpzHswsf22urW0qHTi/kUPQES4B6bdwSMxW\n",
       "mn6GjEeDZo+bq+eHH90FIt8Rj9kYxA8k62CqkE/80gP2R0WvgLTYk6Td1MEAAAcObW9vdgAAAGxt\n",
       "dmhkAAAAAAAAAAAAAAAAAAAD6AAAEMwAAQAAAQAAAAAAAAAAAAAAAAEAAAAAAAAAAAAAAAAAAAAB\n",
       "AAAAAAAAAAAAAAAAAABAAAAAAAAAAAAAAAAAAAAAAAAAAAAAAAAAAAAAAAAAAgAABjh0cmFrAAAA\n",
       "XHRraGQAAAADAAAAAAAAAAAAAAABAAAAAAAAEMwAAAAAAAAAAAAAAAAAAAAAAAEAAAAAAAAAAAAA\n",
       "AAAAAAABAAAAAAAAAAAAAAAAAABAAAAAAbAAAAEgAAAAAAAkZWR0cwAAABxlbHN0AAAAAAAAAAEA\n",
       "ABDMAAAEAAABAAAAAAWwbWRpYQAAACBtZGhkAAAAAAAAAAAAAAAAAAAoAAAArABVxAAAAAAALWhk\n",
       "bHIAAAAAAAAAAHZpZGUAAAAAAAAAAAAAAABWaWRlb0hhbmRsZXIAAAAFW21pbmYAAAAUdm1oZAAA\n",
       "AAEAAAAAAAAAAAAAACRkaW5mAAAAHGRyZWYAAAAAAAAAAQAAAAx1cmwgAAAAAQAABRtzdGJsAAAA\n",
       "s3N0c2QAAAAAAAAAAQAAAKNhdmMxAAAAAAAAAAEAAAAAAAAAAAAAAAAAAAAAAbABIABIAAAASAAA\n",
       "AAAAAAABAAAAAAAAAAAAAAAAAAAAAAAAAAAAAAAAAAAAAAAAAAAAGP//AAAAMWF2Y0MBZAAV/+EA\n",
       "GGdkABWs2UGwloQAAAMABAAAAwCgPFi2WAEABmjr48siwAAAABx1dWlka2hA8l8kT8W6OaUbzwMj\n",
       "8wAAAAAAAAAYc3R0cwAAAAAAAAABAAAAVgAAAgAAAAAUc3RzcwAAAAAAAAABAAAAAQAAAphjdHRz\n",
       "AAAAAAAAAFEAAAADAAAEAAAAAAEAAAoAAAAAAQAABAAAAAABAAAAAAAAAAEAAAIAAAAAAgAABAAA\n",
       "AAABAAAKAAAAAAEAAAQAAAAAAQAAAAAAAAABAAACAAAAAAEAAAoAAAAAAQAABAAAAAABAAAAAAAA\n",
       "AAEAAAIAAAAAAQAACgAAAAABAAAEAAAAAAEAAAAAAAAAAQAAAgAAAAABAAAKAAAAAAEAAAQAAAAA\n",
       "AQAAAAAAAAABAAACAAAAAAEAAAQAAAAAAQAACgAAAAABAAAEAAAAAAEAAAAAAAAAAQAAAgAAAAAB\n",
       "AAAKAAAAAAEAAAQAAAAAAQAAAAAAAAABAAACAAAAAAEAAAoAAAAAAQAABAAAAAABAAAAAAAAAAEA\n",
       "AAIAAAAAAQAACgAAAAABAAAEAAAAAAEAAAAAAAAAAQAAAgAAAAABAAAEAAAAAAEAAAoAAAAAAQAA\n",
       "BAAAAAABAAAAAAAAAAEAAAIAAAAAAQAACgAAAAABAAAEAAAAAAEAAAAAAAAAAQAAAgAAAAABAAAK\n",
       "AAAAAAEAAAQAAAAAAQAAAAAAAAABAAACAAAAAAEAAAoAAAAAAQAABAAAAAABAAAAAAAAAAEAAAIA\n",
       "AAAAAwAABAAAAAABAAAKAAAAAAEAAAQAAAAAAQAAAAAAAAABAAACAAAAAAEAAAoAAAAAAQAABAAA\n",
       "AAABAAAAAAAAAAEAAAIAAAAAAQAACgAAAAABAAAEAAAAAAEAAAAAAAAAAQAAAgAAAAABAAAKAAAA\n",
       "AAEAAAQAAAAAAQAAAAAAAAABAAACAAAAAAEAAAoAAAAAAQAABAAAAAABAAAAAAAAAAEAAAIAAAAA\n",
       "AQAACgAAAAABAAAEAAAAAAEAAAAAAAAAAQAAAgAAAAAcc3RzYwAAAAAAAAABAAAAAQAAAFYAAAAB\n",
       "AAABbHN0c3oAAAAAAAAAAAAAAFYAAASLAAAAeQAAAGQAAAGBAAAALgAAADoAAABQAAAASQAAAD0A\n",
       "AADHAAAAbgAAAD4AAAA4AAAAwwAAAC4AAAA+AAAAIQAAAL0AAAA5AAAAMgAAADUAAAFeAAAAfwAA\n",
       "ADoAAAAiAAAAgQAAAJIAAAB6AAAAJQAAAEwAAAEWAAAAbQAAACUAAABYAAAArQAAAF4AAAA3AAAA\n",
       "QgAAAXkAAABOAAAAJgAAACQAAACEAAABKgAAADcAAABLAAAAWgAAALEAAABWAAAASQAAAD8AAADj\n",
       "AAAAYQAAACkAAABMAAAAkAAAAHsAAAAxAAAAOQAAAHAAAADRAAAAhAAAAZMAAAAvAAAAWAAAAEwA\n",
       "AADFAAAAIQAAAbIAAAGnAAAAGQAAABMAAAGnAAABpwAAABkAAAATAAABpwAAAacAAAAYAAAAEwAA\n",
       "AacAAAGnAAAAFwAAABMAAAGnAAABpwAAABRzdGNvAAAAAAAAAAEAAAAsAAAAYnVkdGEAAABabWV0\n",
       "YQAAAAAAAAAhaGRscgAAAAAAAAAAbWRpcmFwcGwAAAAAAAAAAAAAAAAtaWxzdAAAACWpdG9vAAAA\n",
       "HWRhdGEAAAABAAAAAExhdmY1Ni40MC4xMDE=\n",
       "\">\n",
       "  Your browser does not support the video tag.\n",
       "</video>"
      ],
      "text/plain": [
       "<IPython.core.display.HTML object>"
      ]
     },
     "execution_count": 8,
     "metadata": {},
     "output_type": "execute_result"
    }
   ],
   "source": [
    "HTML(ani.to_html5_video())"
   ]
  },
  {
   "cell_type": "markdown",
   "metadata": {},
   "source": [
    "Start very deep learning:"
   ]
  },
  {
   "cell_type": "code",
   "execution_count": 9,
   "metadata": {},
   "outputs": [
    {
     "name": "stderr",
     "output_type": "stream",
     "text": [
      "/home/max/anaconda3/envs/tensorflow/lib/python3.6/importlib/_bootstrap.py:205: RuntimeWarning: compiletime version 3.5 of module 'tensorflow.python.framework.fast_tensor_util' does not match runtime version 3.6\n",
      "  return f(*args, **kwds)\n"
     ]
    }
   ],
   "source": [
    "import numpy as np\n",
    "import os\n",
    "import random\n",
    "import tensorflow as tf"
   ]
  },
  {
   "cell_type": "code",
   "execution_count": 10,
   "metadata": {
    "collapsed": true
   },
   "outputs": [],
   "source": [
    "def gather_columns(params, indices):\n",
    "    # prepare row indices\n",
    "    row_indices = tf.range(tf.shape(indices)[0])\n",
    "    # zip row indices with column indices\n",
    "    full_indices = tf.stack([row_indices, indices], axis=1)\n",
    "    # retrieve values by indices\n",
    "    return tf.gather_nd(params, full_indices)"
   ]
  },
  {
   "cell_type": "markdown",
   "metadata": {},
   "source": [
    "Q-function:"
   ]
  },
  {
   "cell_type": "code",
   "execution_count": 11,
   "metadata": {
    "collapsed": true
   },
   "outputs": [],
   "source": [
    "def build_q_function(resolution, n_actions):\n",
    "    with tf.variable_scope(\"Q_function\"):\n",
    "        well_pl = tf.placeholder(shape=[None] + resolution + [2], dtype=tf.float32, name=\"well\")\n",
    "        reward_pl = tf.placeholder(shape=[None], dtype=tf.float32, name=\"reward\")\n",
    "        action_pl = tf.placeholder(shape=[None], dtype=tf.int32, name=\"action\")\n",
    "        \n",
    "        conv_1 = tf.layers.conv2d(well_pl, 32, 4, strides=(1,1), activation=tf.nn.relu, name=\"conv_1\")\n",
    "        flatten = tf.contrib.layers.flatten(conv_1)\n",
    "        dense1 = tf.layers.dense(flatten, 32 * resolution[0] * resolution[1] * 2, activation=tf.nn.relu, name=\"dense1\")\n",
    "        output = tf.layers.dense(dense1, n_actions, name=\"output\")\n",
    "        q_value = gather_columns(output, action_pl)\n",
    "        loss = tf.losses.mean_squared_error(reward_pl, q_value)\n",
    "        train_op = tf.train.AdamOptimizer().minimize(loss, global_step=tf.train.get_or_create_global_step())\n",
    "        \n",
    "        return (well_pl, reward_pl, action_pl), (output, loss, train_op)        "
   ]
  },
  {
   "cell_type": "markdown",
   "metadata": {},
   "source": [
    "Predict function:"
   ]
  },
  {
   "cell_type": "code",
   "execution_count": 12,
   "metadata": {
    "collapsed": true
   },
   "outputs": [],
   "source": [
    "def build_estimator(sess, well_pl, output):\n",
    "    \n",
    "    def estimate(sess, well_pl, output, wells):\n",
    "        feed_dict = { \n",
    "            well_pl: wells\n",
    "        }\n",
    "        return sess.run([output], feed_dict)\n",
    "    \n",
    "    def estimator(wells):\n",
    "        return estimate(sess, well_pl, output, wells)\n",
    "    \n",
    "    return estimator;"
   ]
  },
  {
   "cell_type": "markdown",
   "metadata": {},
   "source": [
    "Train function:"
   ]
  },
  {
   "cell_type": "code",
   "execution_count": 13,
   "metadata": {
    "collapsed": true
   },
   "outputs": [],
   "source": [
    "def build_trainer(sess, well_pl, action_pl, reward_pl, loss, train_op):\n",
    "    \n",
    "    def train(sess, well_pl, reward_pl, action_pl, loss, train_op, wells, actions, rewards):\n",
    "        feed_dict = { \n",
    "            well_pl: wells,\n",
    "            reward_pl: rewards,\n",
    "            action_pl: actions\n",
    "        }\n",
    "        \n",
    "        return sess.run([loss, train_op, tf.train.get_or_create_global_step()], feed_dict)\n",
    "    \n",
    "    def trainer(wells, actions, rewards):\n",
    "        return train(sess, well_pl, reward_pl, action_pl, \n",
    "                        loss, train_op, wells, actions, rewards)[0]\n",
    "    \n",
    "    return trainer;"
   ]
  },
  {
   "cell_type": "markdown",
   "metadata": {},
   "source": [
    "Split well to channel with figure and channel with trash:"
   ]
  },
  {
   "cell_type": "code",
   "execution_count": 14,
   "metadata": {
    "collapsed": true
   },
   "outputs": [],
   "source": [
    "def preprocess(well):\n",
    "    return np.array([[[v == 1, v == 2] for v in row] for row in well], dtype=float)"
   ]
  },
  {
   "cell_type": "markdown",
   "metadata": {},
   "source": [
    "Initialize model:"
   ]
  },
  {
   "cell_type": "code",
   "execution_count": 15,
   "metadata": {},
   "outputs": [],
   "source": [
    "tf.reset_default_graph()\n",
    "(well_pl, reward_pl, action_pl), (output, loss, train_op) = build_q_function([20, 10], 5)"
   ]
  },
  {
   "cell_type": "code",
   "execution_count": 16,
   "metadata": {
    "collapsed": true
   },
   "outputs": [],
   "source": [
    "sess = tf.InteractiveSession()\n",
    "sess.run(tf.global_variables_initializer())"
   ]
  },
  {
   "cell_type": "code",
   "execution_count": 17,
   "metadata": {},
   "outputs": [],
   "source": [
    "estimate = build_estimator(sess, well_pl, output)\n",
    "train = build_trainer(sess, well_pl, action_pl, reward_pl, loss, train_op)"
   ]
  },
  {
   "cell_type": "markdown",
   "metadata": {},
   "source": [
    "Learning session:\n",
    "    eps - random action probability\n",
    "    gamma - discount factor"
   ]
  },
  {
   "cell_type": "code",
   "execution_count": 18,
   "metadata": {
    "collapsed": true
   },
   "outputs": [],
   "source": [
    "def learn(estimate, train, eps, gamma, replay_capacity, batch_size, episode_n, steps_n):\n",
    "    \n",
    "    def prepare_batch(D):\n",
    "        indices = np.random.choice(len(D), min(batch_size, len(D)), replace=False)\n",
    "        X = [D[i][0] for i in indices]\n",
    "        X_next = [D[i][3] for i in indices]\n",
    "        actions = [D[i][2] for i in indices]\n",
    "        terminal_flags = np.array([D[i][4] for i in indices], dtype = float)\n",
    "        rewards = np.array([D[i][2] for i in indices])\n",
    "        q_values = np.squeeze(np.max(estimate(X_next), axis=-1))\n",
    "        y_train = rewards + q_values * terminal_flags\n",
    "        return X, actions, y_train\n",
    "    \n",
    "    def calc_free_rows(x):\n",
    "        garbage_channel = x[0]\n",
    "        for i in range(len(garbage_channel)):\n",
    "            if sum(garbage_channel[i]) > 0:\n",
    "                return i\n",
    "        return i\n",
    "    \n",
    "    D = []\n",
    "    max_score = 0\n",
    "    replay_index = 0\n",
    "    for i in range(episode_n):\n",
    "        tetris = Tetris()\n",
    "        well, score, _ = tetris.step(0)\n",
    "        x = preprocess(well)\n",
    "        free_rows = calc_free_rows(x)\n",
    "        for j in range(steps_n):\n",
    "            if np.random.rand() < eps:\n",
    "                a = randint(0, 4)\n",
    "            else:\n",
    "                a = np.argmax(estimate([x]))\n",
    "            well, new_score, is_game_over = tetris.step(a)\n",
    "            new_x = preprocess(well)\n",
    "            new_free_rows = calc_free_rows(new_x)\n",
    "            r = float(new_score - score) / 10.0 + 1.0 if free_rows >= new_free_rows else 0.0\n",
    "            score = new_score\n",
    "            replay_entry = (x, a, r, new_x, is_game_over)\n",
    "            x = new_x\n",
    "            # fill replay buffer\n",
    "            if len(D) < replay_capacity:\n",
    "                D.append(replay_entry)\n",
    "            else:\n",
    "                # ring buffer for replays\n",
    "                D[replay_index] = replay_entry\n",
    "                replay_index == replay_index + 1\n",
    "                if replay_index >= replay_capacity:\n",
    "                    replay_index = 0\n",
    "            states_train, actions_train, rewards_train = prepare_batch(D) \n",
    "            loss = train(states_train, actions_train, rewards_train)\n",
    "            print(f\"Episode {i}, step: {j}, score: {score}, max score: {max_score}, loss: {loss:.3}\", end='\\r')\n",
    "            if is_game_over:\n",
    "                break\n",
    "        max_score = max(max_score, score)\n",
    "    return"
   ]
  },
  {
   "cell_type": "markdown",
   "metadata": {},
   "source": [
    "Start session:"
   ]
  },
  {
   "cell_type": "code",
   "execution_count": 19,
   "metadata": {},
   "outputs": [
    {
     "name": "stdout",
     "output_type": "stream",
     "text": [
      "Episode 99, step: 113, score: 0, max score: 0, loss: 0.964223\r"
     ]
    }
   ],
   "source": [
    "learn(estimate, train, eps=0.5, gamma=0.9, replay_capacity=1000, batch_size=32, episode_n=100, steps_n=1000)"
   ]
  },
  {
   "cell_type": "markdown",
   "metadata": {},
   "source": [
    "Check how model plays:"
   ]
  },
  {
   "cell_type": "code",
   "execution_count": 20,
   "metadata": {
    "collapsed": true
   },
   "outputs": [],
   "source": [
    "def neuro_player(well):\n",
    "    'Returns model predicted action.'\n",
    "    return np.argmax(estimate([preprocess(well)]))"
   ]
  },
  {
   "cell_type": "code",
   "execution_count": 21,
   "metadata": {
    "collapsed": true
   },
   "outputs": [],
   "source": [
    "states = play(neuro_player)"
   ]
  },
  {
   "cell_type": "code",
   "execution_count": 22,
   "metadata": {},
   "outputs": [
    {
     "data": {
      "image/png": "[encoded data removed]",
      "text/plain": [
       "<matplotlib.figure.Figure at 0x7fd351178358>"
      ]
     },
     "metadata": {},
     "output_type": "display_data"
    }
   ],
   "source": [
    "ani = animate(states)"
   ]
  },
  {
   "cell_type": "code",
   "execution_count": 23,
   "metadata": {},
   "outputs": [
    {
     "data": {
      "text/html": [
       "<video width=\"432\" height=\"288\" controls autoplay loop>\n",
       "  <source type=\"video/mp4\" src=\"data:video/mp4;base64,AAAAHGZ0eXBNNFYgAAACAGlzb21pc28yYXZjMQAAAAhmcmVlAAAycG1kYXQAAAKuBgX//6rcRem9\n",
       "5tlIt5Ys2CDZI+7veDI2NCAtIGNvcmUgMTQ4IHIyNjQzIDVjNjU3MDQgLSBILjI2NC9NUEVHLTQg\n",
       "QVZDIGNvZGVjIC0gQ29weWxlZnQgMjAwMy0yMDE1IC0gaHR0cDovL3d3dy52aWRlb2xhbi5vcmcv\n",
       "eDI2NC5odG1sIC0gb3B0aW9uczogY2FiYWM9MSByZWY9MyBkZWJsb2NrPTE6MDowIGFuYWx5c2U9\n",
       "MHgzOjB4MTEzIG1lPWhleCBzdWJtZT03IHBzeT0xIHBzeV9yZD0xLjAwOjAuMDAgbWl4ZWRfcmVm\n",
       "PTEgbWVfcmFuZ2U9MTYgY2hyb21hX21lPTEgdHJlbGxpcz0xIDh4OGRjdD0xIGNxbT0wIGRlYWR6\n",
       "b25lPTIxLDExIGZhc3RfcHNraXA9MSBjaHJvbWFfcXBfb2Zmc2V0PS0yIHRocmVhZHM9OSBsb29r\n",
       "YWhlYWRfdGhyZWFkcz0xIHNsaWNlZF90aHJlYWRzPTAgbnI9MCBkZWNpbWF0ZT0xIGludGVybGFj\n",
       "ZWQ9MCBibHVyYXlfY29tcGF0PTAgY29uc3RyYWluZWRfaW50cmE9MCBiZnJhbWVzPTMgYl9weXJh\n",
       "bWlkPTIgYl9hZGFwdD0xIGJfYmlhcz0wIGRpcmVjdD0xIHdlaWdodGI9MSBvcGVuX2dvcD0wIHdl\n",
       "aWdodHA9MiBrZXlpbnQ9MjUwIGtleWludF9taW49MjAgc2NlbmVjdXQ9NDAgaW50cmFfcmVmcmVz\n",
       "aD0wIHJjX2xvb2thaGVhZD00MCByYz1jcmYgbWJ0cmVlPTEgY3JmPTIzLjAgcWNvbXA9MC42MCBx\n",
       "cG1pbj0wIHFwbWF4PTY5IHFwc3RlcD00IGlwX3JhdGlvPTEuNDAgYXE9MToxLjAwAIAAAAHdZYiE\n",
       "ADf//vbw/gU2O5jQlxHN6J0zH78VuLo0N73OAAADAAA33OZE/sqTBubAAALgG+R14s/v8wBu74RJ\n",
       "IvFTH0bAdF5Owep+V1OIOgoJrWMAswtIQW+4vZRSgVf7adnMR1f8WE2FUjZLzVpOHak9KtszYPZt\n",
       "metrjpEuGuc5R4wAJ+tHQiiDwaAAAnIaHWdkYJtpie7376jp+4t/pff4we7U0yOSKH8eFltl01pq\n",
       "M6KhyQAB/r9hGzhcH4AAAAMAAAMAAAMAAAMABExz+ZbwEpSDWOUA2JqXFMCJRev8diaJGg4Hk9ni\n",
       "0TkZmn/khFMAfwqnG0apKQcf/rYHeB9BWGgaljYZYvncehAXJmlyPrVXjqWCT66I9h/nyHIrHx3q\n",
       "Jdb3oALWlVja+eVbI8YYsXwyfaFtV42crXSf8SP1hgb8ng7hbto3kI5hWEEYNp6BqruEisc4eqUA\n",
       "0SKpJyAy+hZWIsVRQUmK1I0lWrXC9LjHyXIQme3ah6CISy3ZPGt9gqv9VSEaHSSXESMrkUZVD6A2\n",
       "czM+OTsPt/Ku/3siohr/X5X8g9L7AzFnFE/vFS6BgSi6x4kKXeqOtbcFEf/D2pNjr+Ihn+LEVIL5\n",
       "xa6jslI/s+mVHmgAAAMAAN2BAAAAnUGaIWxDv/6plgDC9XvoAVfznuqXF96X9zjO1C87H/7UIl8Q\n",
       "L7c9R9cp53vwfsAoCtB+AeQlpe4O6rq0XlvCsaDZIxkwD1fpmQatL69yRRb86PQrxCQxz04bS0Su\n",
       "ZRGICzH30ZCpxFbCI6XPqD4JWa3flNlcj4y67L/VcXW7D5YAHplXVRK9vRheAjDyPUKf/gqky6sI\n",
       "oCjhXBL7/mAAAABRQZpCPCGTKYQ7//6plgC9e1QEV8bdwLteQzVu15TbUJ4ADiL69/Nr/lk4eBOI\n",
       "9PZW7yaID64gg5n4epnWU6DM04cg97ctmjsxD2WpeusZnQOPAAAAlkGaZknhDyZTAhv//qeEALUI\n",
       "Zi+ZPcrDRKNcFzvF5h95oAXe0143hOnMNwK/u+Y+9dRjIXE9m36HobQX+RHFZC+wOV5xjCKSXSSv\n",
       "sbsetcVMMSdYTa7ZayqIAGVjiy3p7p56PfL9eYuYJVKDDLre74bg7PvLiOU/4fDAyDw3kExvz79h\n",
       "0P3VOTvYBJ8ikeLNbwviZfyN6AAAAFlBnoRFETwz/wFvK2nd2FkyRx30AF0fzW26rufYnj7NfimD\n",
       "6JMCHyoGPoNTK7WXx2tFdi+pg6KwcNs7ZQj3iQvo8hue3Ocxk2GaQanhYq0274ygHq4zZG3T7wAA\n",
       "ACIBnqN0Qr8Cj9C8iRV+LFJnJvarlIhax+UFea149VqzjCkhAAAAKQGepWpCvwKRX7yGXuqD0Spk\n",
       "VcwafFWg7BMTBgBVFVAzv0v+TvUoipuBAAAAT0Gap0moQWiZTAh3//6plgAMF7Zcl4RDAAyL9RiQ\n",
       "d77XVOgSdO5irOV4bnsGKzMMR1/gvyOPepMkCO/AfYoHnLkj4Kbs8qRoHxsaOIdv9yEAAAA9QZrI\n",
       "SeEKUmUwId/+qZYAC7i5E7QN4MH1gYIyF7lUAI40P9sM6jahLf+e9JWM9ryV+uyRhHVci2drqRLc\n",
       "PAAAAI1BmuxJ4Q6JlMCHf/6plgAF4+AbN15dsGjXmqPoS6T5F44drCgAGiqyKpkHyBv4EjPZFURo\n",
       "Vo78390DdDUcKb2pooDayI/eAAtQx7AynzhaLxGfA+2VfaHoJ6AH74jNjMvcdQhKC5v4xCRhZ/VJ\n",
       "atzoxxdqCFHV3E2PprerVjflQy+U7LtI80YdcbkamYAAAAApQZ8KRRE8M/8BbytpDc7DT+gLzKY7\n",
       "5bPPcmrt9ohs/Az7q594g44uoecAAAAqAZ8pdEK/Ao/Qo06+K3J5qAffUDwYQANUcd49yf/0Gbk1\n",
       "hzxK+Jx1bWyfAAAALgGfK2pCvwKRX7NRflDAvmJcFzbyfIAGkQTIjvffJ9Y8d6yFI3V07yAUq2zj\n",
       "MnAAAAA4QZstSahBaJlMCHf//qmWAAC7i4UqWAH/vyZKh44CtlXAYLlJ9LG8ND1FPePPMQ5bTskE\n",
       "1ltJpOEAAABaQZtRSeEKUmUwId/+qZYAALf8A2Wpfu7O3gmrBbrDj7k2tMIABF0ltd9+Z301NK/H\n",
       "grLj5k+J2snkfmdsWy7TyxjGhoBbccO5iVHTnWEp07MBF1L3BOoaJkSjAAAAPUGfb0U0TDP/AW8r\n",
       "aQ3Ow0/n/QzsV655qE47W9a9OLWZOJH+ADlDY8BD/7GDZs3fl4tfdXpZX2XqZoQUZDsAAAAmAZ+O\n",
       "dEK/Ao/Qo069jDdusZ86cnkyy47Ag1vatc9shXvTavGbX4AAAAAvAZ+QakK/ApFfs1F9+6wM4wJc\n",
       "mhl/8SDry7LwhVZrfsNgCZD6mecDbwUYL09UamAAAACmQZuSSahBaJlMCH///qmWAAAXcXE8xLyP\n",
       "QSNuE4AbQnmM2cGm6rwm/3bi91n2zXXUAAiZBhOGq2tDW4yv2A79Mi8m951C0OrtBRjY4xO/k0CA\n",
       "Ei/knOj5zdSQoC8Y+WDVJjUkTfHYIcgYhyQgw4EqaevxKKbrtBymBKqw8yYZ+9Me+4W/N14hm7zm\n",
       "Jgkm3GDeEcma7wOjtj8tU6MLuPpFKG8xXd0HQQAAAZBBm7ZJ4QpSZTAh//6plgBb+FvsHZubgAZs\n",
       "GMlaQvQwgqeKepnr96HapTICMuPj0zw426KnUhY6e8vD6Yt8MoM3HgtxxMPQ4PWl+HUiX4PGrUVc\n",
       "3EAICTYYN2Vfovtrf+Pl7k1x2CZQ+4p8GZg+Xffic3emHmHVMje5abcm42gHM2fBoc+AwRXngFpN\n",
       "/HeO63/eU7UgK5s0qRmOmOK3MrPdnQ17AfSfaGUmM7taW6DL2I9P7XD1AR1DDyAxvUt83yieMD+t\n",
       "Eo0Dp5XQBDRng95XBzakDHqZH0a8zxo/AACmXPMIR9gVf/kq88Wsd9ksF/fU+93rKdUqz21TfADX\n",
       "ZDQv4n780iWbhOFqlpaqwicwBtWSCyJ16w8vSODWzbdVFM9QzbI4OI/M80PRQcG25n+NP7N5dtB+\n",
       "yHVfz9aZ3GqQcymqniNp/S0ZfJvFEsgCacuOj2RuYVbh0aipxiy76TicoUa6M/+yijorP0Fnjn/R\n",
       "3+bDY+zAkXeF+30hcPl4ReYlfVM+rCZxr+5kaGXSVqHDAAAAYUGf1EU0TDP/AW8ra0hVBr+TQ8gA\n",
       "Y4htxMKkKF6Cbu5vx47XmpBu60JCq6hf9XLf2ABpR54Y85ojxb4EsuiCIrx/8xFsCreFLRfr5Lpe\n",
       "9xVKHwk1ZgF/F3+GdBahEXlKtCwAAAAaAZ/zdEK/Ao/Q2/tK7BdUtG+oenB89XRJ2rEAAABbAZ/1\n",
       "akK/ApFf7mGIQAfFUafI3XJDrRZwpydHgKgdk/MjPpky4cA8dxsQZCzIfPtE3DnrBcIS//t2r8NC\n",
       "UFPTrVi1BXnmd0G7zi5zx26+WMk4FEM+Li48ynwRsAAAAKZBm/pJqEFomUwIf//+qZYAW4XE8l6D\n",
       "swouXqHU7gK4zR+AAJ5Mfh2POv5KDdzN2tFIrJ1Cejxiwdb9onxcdseNLj/taJhKt1c8co5yV9iV\n",
       "gGjWGMgWj6GVI6uCBv778/ed2gtFzyCs6q7JP1WcFq887Zq0KBhDQ6koi6gfO5dSCK+OuPijcetc\n",
       "8M9grCNQy3wpD0dNr783MUvhm55L2sX1ShaRcLexAAAAqkGeGEURLDP/AW9NS9rsWPFGtNQAcJW4\n",
       "eFFdz7E8fZr8UwNT/1gtbQFqqGnDn0WBIIF5wgyY620K1lS6dYQY+GOM4YhSxb8Iv3ZPndc+2DnJ\n",
       "86AlQa/eCvHOfCJ/yTT1QIPNcKg9HR/AnXZSWlmdUjLgU4eQBZvzLuKfABgxYik0K5Hvg4UAYuCj\n",
       "87gf1ydsuZpgkz5uyrDU+gDDebB+VORm8K2LYXVADxgRAAAAKAGeN3RCvwKP0LyJFX4sdCTXG4iV\n",
       "cQANVjoE6HcNEKqPsBSngLC+j8gAAAAoAZ45akK/ApFfvIZe6oNE44ECyLlCsdRUAHJPhQmcjtzn\n",
       "N+PuV0TT7wAAAK5Bmj5JqEFsmUwIf//+qZYAC7i4nmJeR5zCAWXVvSAAKVGSNkDQ+lFc8v//oQJZ\n",
       "DZ4SzBBY3WDijAvkgESqkrT+NfZaKyFeYXow4nSco54q0s/B6v1M70nkKCnXE2mBS+54/QoMMo7M\n",
       "1VPXfCCFmtzDFC8kqeJ3ruow7YN4h1TCn8lXNaTcVDHYBd+b/iGFzm7lQetgTwGCqg/V6p53I1Q5\n",
       "r/Fog+MOW/qAqo02Gl4AAABIQZ5cRRUsM/8Bb01KheTGoqw//RKcxmMeoxIAOYBxYn3UKV0ThyjW\n",
       "U8lELB6bEYMQdpgiXEX4zwyY8cQbmYLzg3SF7gFvc4GBAAAAKwGee3RCvwKP0KNOvwR5rDqd/CAC\n",
       "BXv8ocyzYCkOv4lw3HQKQmRtTJe12kcAAAAvAZ59akK/ApFfs1F/U2jPyQuHduZHrABbixCYNYNH\n",
       "wG86ySoUYn82Ut321nilOhAAAACzQZpiSahBbJlMCHf//qmWAALx8A2bry7Xw5LfDkN2DhGGYALb\n",
       "djpxw8DKI5f2oiPh+39carf2hmZpLaKZcDcW6lGtraMtyJLZESe3ad3ZJH86vPCmGvhO9MdapFwD\n",
       "P/5/SupkYZqwcvwydTtyV4CaSlrvFOjoy9nsVGQXarKcdOdJ4cwicgdHqHHWMfu6F8oZ4Y6om5Zl\n",
       "qYVYiCdcB2ygTaCSzkHoBNFbLXs/zjPomnR62MAAAAB9QZ6ARRUsM/8Bb01KheTGoqwGzKY8q/Dp\n",
       "homBRsIBIAMbEVuO4258PEEfL0uTAoE7QKupZl+XxD2kNqVk2QVVWrMc1telxz2+ft+o4Ikz0sj7\n",
       "3aCcL/ny6IX8jY4aD0lm2oygeCcT1SsHoLCzMjx/ou5Ad71ZAVbUN2lYQAEAAAAyAZ6/dEK/Ao/Q\n",
       "o0690Lk807nOBCbeAAaRBMiO99GxyqhhY2B+AwkKFTX45IZU82r4E8AAAAAtAZ6hakK/ApFfs1F+\n",
       "DLAzjAlyaGX/xKh9utHM2eTJCWXI8yYuvvQpJCrIOpmFAAABE0GapkmoQWyZTAh3//6plgC3ZxGQ\n",
       "KONGAApkqmhEKmAF8+2eTP0LoctQTiMBng9Rz9vhNazHxcNdpOwZzqrY3grs3zr0dym5EwHksw4p\n",
       "53J8Nezzsc80SwSslFy3pC0fcLsp9AfTFDxV+phaJ3Qlyf3HoF3S0N2V9PILk4hvu9hemCJhCWHh\n",
       "5YzA29bQQQtFctxbM9MGVh+6VHvjiW5QCH+2QNny3K4oeBn6kSEYDW6gIud2l6gSEv/HtLTNAH8T\n",
       "JFCNk+zDF3XsWGnyDcNRxWgfxdshHAaVwB38POQvT3G3V268zedWY5OWk5sj7EBzzIkyRSKIU63i\n",
       "yKJeTh21rH2scGHfSylF2u16ad5hkbxuASnAAAAAgEGexEUVLDP/AW9NTjX1yKr+7HKAWMC4aB7Y\n",
       "E0HwRXVVOpf57xoCOXarELpQ0FH9p8qwhtS7XWViXbAxc6fZlV3rTMXoxhMoonOpntFyJzObR4/k\n",
       "LK0/0YsJXvLnN8+Y15KqijW6dLNf3TT39yJ0w5Of344RHhCpb7KmmrMSL6VxAAAAKgGe43RCvwKP\n",
       "0KNOvYFXJ5qAffG4+YAWrP2blGbjxlXwor6eQ+7vN4kDgQAAABkBnuVqQr8CkV/r8XGx5htusOld\n",
       "fsMG/vHBAAAApkGa50moQWyZTAh///6plgC8JqQQAdpc2xLoBt7qNSRcPrSc5Fw6cja11GlVGje3\n",
       "O7ODOZjqjb6aIsKWr4/EIAoXgW77FflP9fLckYugLMDw9wAz1eMahGaVOVAXH6crbHAlo6d11H9V\n",
       "JDaQoWigsu/kaD9Qgk1kfmJd6CGMF5KrTf1a0pKwOzXHHG5SC6vJUZ6PQ0Fyz7cQxaQXVg1k0uRp\n",
       "/QVr5iMAAAB/QZsLSeEKUmUwIf/+qZYFS1KO6/ClNhpQmLKGNgDfiMdVxuh4wuwAb6aa3UTglxfm\n",
       "V2SsUJ9/z+MUx9sHjgd67yyCic4bgW100ikgUF/A6hg5cwOdwG6gNfqJdUPEnxIXntr6evBfiaSz\n",
       "+kIxnLkGHJe1bIiycY7EjWgepibUwAAAACJBnylFNEwz/wFvK0cQ3OjKKgyoPhSm/Wu88cli58X0\n",
       "XWnwAAAAPwGfSHRCvwKPzZBDJ8joSVICd4zfACqSovXrhIg3bziByBA8M28/EhpD9FKbaY3z7cHK\n",
       "snXVk4ob0Tdb+4UpgQAAAEUBn0pqQr8CkV/uJ7ZZw9IN4AAg5NgcAHKcHO42f/48UBB+KwNXFQ+U\n",
       "3H2484oXL0pjQOd+iE0NCk8e8gQontoAj9NgKCAAAABTQZtPSahBaJlMCH///qmWALwmeNQ6U3fB\n",
       "MC0AASAHAjpkMY5bIq//X9V4MGz4gLO2vCur4mPheD6FGY3fpFj0m32vitaX/b/p7GA2bRvR3Zqx\n",
       "lGoAAAAiQZ9tRREsM/8Bb01OXxODjPOliiIy/rhNURDNUXrvwBpECQAAAEEBn4x0Qr8Cj9DeCSr7\n",
       "9dm6gPTAAaUab3zRviN284gcisBAc2H4kNIfopTbTKiz56OSeBxdFa780Tjk4xC2fmbbQQAAAFEB\n",
       "n45qQr8CkV/r8NoX4Rj/13FACDq6jTXoTqyqvNAPnz/229TvrhUa8JGM81wjs+uLhKCEJz+g7DF9\n",
       "2TGxPqngaSqPFEgS4G5nisLvpynKg+cAAADUQZuTSahBbJlMCHf//qmWALYugVPpWpIzQ+0FeB/Z\n",
       "9oQZk7dBQ/MADi4//g5Y8rPRBia6Fcs35lwfI36rTfcJMkEF6e/zu4EfaayjUStDyAHu6TZvY+hr\n",
       "KoZy+a5jLsEEyCZquVyHxx0khgmDRPAFMYMIVy4P5R/eKCNfoV7cty1tWYJm9wPPTvM1frf7kqVw\n",
       "FnJmJmPAAAsf/fxjACzQmAQ56SMgiiHj/G8NF0twjJCpyzJhmz/jzyvKHAEvrzlMcLF5nZwtWSwP\n",
       "qY8jRPB23SlhD4MAAAB0QZ+xRRUsM/8Bb01ONNR0n9ZnAxiIb2u7qrtogBMlShWw2ZNeDvTEqdqe\n",
       "b/7cHfOpKTuO5r+MDDcwP2f9LTp97T8K2MnuKPbi67SHO0OQbYx6R+kiqY1SSYZE9sdiQqowFPJf\n",
       "LqIPghEcGYVWDEIx352hqLgAAABKAZ/QdEK/Ao/Q29Iq+icfkyAAUOELElcDGKn+DFDbppEv6odG\n",
       "11HNOlV8ZRPHBvPxh3A9/a7qFlXNzTQXj6RiUnFD3YnqtatKBbUAAAA4AZ/SakK/ApFfzI1djCqU\n",
       "M+lAI79ii0HfcbP2j0ALQY2xz37+x6bKlhK2q8MNkRcq/c9UrM+wXWAAAADZQZvXSahBbJlMCHf/\n",
       "/qmWAAt/C3wM58Bk+nGTgsgWeEn3bxmnUKhZB+2P8F1nVpj1WYiHkOkACVV0FVGV9OeILj43TXp3\n",
       "dQSZ9EVkrUBGGri9Ue8TCAjpqPZTTCcGGRe0mL5HX0CK/4Xffha5pNu/YaZuUgkKJKxamUE7nJXJ\n",
       "enNYQIskNivp5yBZqCBE2/R3mmFIw5b4OVrmdqUHEegvl1Nbj1d44/2dOkzRpXb+uePGCng8m2BV\n",
       "hGh+5YcLG5eBgzi7UDwZueSU0Q1xbOqQQ2fjUSo13zW/MAAAAEJBn/VFFSwz/wFvTU42bsIyJABg\n",
       "00UekIWvZv4de0+m3u+SvESuBg2GKAF1q7cUaiGd+CPzOtxlGedZhlJuEIUZq4EAAABRAZ4UdEK/\n",
       "Ao/TWoKHZ4MeVaaP7QAZ30f/a8ym86JZOqU6Fcctt6nfXF+B/odUpd4oE9yC2DryzxJdna89Hk7b\n",
       "r+2HO7wjeNYKymebACHLMosvAAAAVgGeFmpCvwKRYmShHrhx+1PQBBnNnVNoBPrYbNec7z2//ugI\n",
       "ecOYfaBd75TxNTzf++Z8eda/TzB30W4VYMsjUY9etslFEWIXtM1Z0GBIEwi8N5vVmmHzAAAAi0Ga\n",
       "G0moQWyZTAhv//6nhABWt/cOESb4AWvQFPwGxTtJ4wV0kOhC8twtmH9+JHn5kzNbxWc8OToZvEUQ\n",
       "/upcK3dS+5q/MWHA+GmNJqoRpMYjWCmRKI4a5KwDvKhlV17c0Xv16/YDN1ts79YY54YwGYV116lY\n",
       "97yxDQWZgNS4wLj+/xzpUHHpmy+6WgkAAAAwQZ45RRUsM/8Bb01ONuJaoIf0BcCEdQODd8LuYp3e\n",
       "DMI5fmmABTMQGiEL3+9/zrMGAAAATAGeWHRCvwKP0Nv63yrlWmgSAAIAUH/2vMpvOiWTpiuPT/bb\n",
       "1O+uL8D/SepS7vUiuQWwcJpbaHJ/KGBKV7DpWtka7w90D4QmJvpO3dEAAAAxAZ5aakK/ApFf69l9\n",
       "WZFVFQzt6nQAOLPdM+5QSLOnOSYSEO1wWeEpeqUf6yWDzApvFwAAAHRBmlxJqEFsmUwId//+qZYA\n",
       "VT4Bxl9dgSXRfOZyAGc5UdUEsLUre/l2vHRZ/TPbF8WX4CfQlrVGGIgFImdzPs+2MlcWplRNNbcQ\n",
       "XDvFY/9nZZ8OcpfIVdkXIN9vXCouiU4FSLnVFv/3o4paXDx7vMnMuKlxwQAAAD1Bmn1J4QpSZTAh\n",
       "//6plgAqnwrbn9c53E3g0jsNJuLOdWC1Q0ABkoOshd1Twvyt1CgexemSiFTLFMkE36CBAAAAmUGa\n",
       "gUnhDomUwId//qmWABS/gGzdsO7/GA8FmbVLw18QuksyCu4Jvmv8UB7omqoTNRmpbXxkTnb5BSvb\n",
       "YgpcRnBUBWxYlf+jvue4RzHWXzZl2og0gJ2FXlbBM1Gt1dq7dn1HwwWLHE2+eECSXN3Xr0LACbtt\n",
       "aUHfWf82bnmTi3a2EoSrAh0qGD0De7lYS6gtBmjtY5LKNmLAgAAAAHZBnr9FETwz/wFvK2m5nYDw\n",
       "VQjQMACg2Cj25qotFqU/HyyaB+0kaIG3pYemcfKqKDN6e3GTjwz+986ZTLtSYZYRFc3+/9fSbxBT\n",
       "mj3hJpoqaBQLSWJc9Pl5APitoOdz/qobg8SL9Ma1aoMeCcNJU4U3uj+dvbAgAAAAJwGe3nRCvwKP\n",
       "0Lla+HfJ9dKvpBkmaAICEGQ2bwPoLSDLktrsWdRbQQAAADQBnsBqQr8CkV/JZfkoAvmJcExlhcAL\n",
       "aSvYPeDqUmXGAemT1MqSZivUUprfCu2roldLhLKAAAAAj0GaxUmoQWiZTAh3//6plgAFk30u2Icw\n",
       "IqFJ9so/Xh0YZkjLAN4rAllpOUOEm+6fqkeHArWoEevsLPgn/Qvwj1P+y0hltvhttOZfjz66me4k\n",
       "5YaP7rECJR6wpc6dyvFDutbKGSLXRydgAtDU1dcd7JFLoNhxqvhsUzOxpUxQwUvPdZHhEL1G8omc\n",
       "9m7SQTYZAAAASUGe40URLDP/AW9NS5vJeLAVO/VqV6OkR90qN12n1NAKjwWpyAjq8Q8YgIGIPjNv\n",
       "uSgwt7U+3aY2tjmgg854uyQgixuFZZ0ZZkwAAAA8AZ8CdEK/Ao/QuVr2LD/4EbbUAAcToNzL88C/\n",
       "W1zA4PS1IZjU2hUCHWqS70Yt8iFynbOC6HDr0SmToOvhAAAAJwGfBGpCvwKRX8ll+AIAXzGA1sIY\n",
       "8AKxDcHPyBSgR9JXTGlJmes58QAAAGFBmwZJqEFsmUwIf//+qZYABW/NjEhDT5YIVXtYLu6t48kQ\n",
       "wWDhbo2f4Vh9Fjte8VNUtbfr6VKZZkdm0KbE847cNkvS3LfETf+9YPdVk4bASF3tR7Jk0SD9EU51\n",
       "v6ShGU//AAAAq0GbKknhClJlMCH//qmWAAW3t/bdbgq2qvBZt/UuBM6uL4fwOV+RH8lTno+yjLvB\n",
       "HxqFR2slPw2gVh+PT+jO5zUAN1grTZ9sHcQh69xcedZA2tj//8miyg0xw9xbkbVE7KQ82zCyc9mJ\n",
       "s1a3QQU3zDom4YnIR9DlHjnndbCQktP/y+evwwJcx6KtvhK72o3C6gJNwWB4O1qiLvMrecsgfRSk\n",
       "027qYgduKIjH3QAAADxBn0hFNEwz/wFvK2m5nXvbK8YWaGuaNwasNrIs6INr17oFAizaKlOuS2bd\n",
       "rEN7XZNnGobT8UaJ8hsWoIAAAAAnAZ9ndEK/Ao/QuVr14n8nmoB9919xAnbrSP6LACqL5O8apJvb\n",
       "DOcMAAAALQGfaWpCvwKRX8ll990h26xnzpyecAVq/TdDlCoWZ3ZQB/2e1HI7dTp0H6FWeQAAASJB\n",
       "m25JqEFomUwIf//+qZYAW/hb8GWAcANuaW6zKqE9Bj+fjWDF/1UA7zFtryNGJs5vAcu3wB1o4kRC\n",
       "wcioVfDcb4JNKV49eEpARxvYWGoec3znNT/GUm399zYk64rYKp0TW7Hu/qh1qofmnbw3auuDxGTC\n",
       "VMdwA+nchia34po2oCDAYCk/SVkiC298DssQzRhyvIXY3xDV17oDDWnO0rikSiEckbBkHkFPiiSY\n",
       "LcYVltdLZJn2Rm/noy+73KNAgYAgU/rze+AFHX4J4aoiWXBQ0Nppe4ksJ92Njzn5pYpuDVC9q98m\n",
       "8Kk/S67EV1q+I+Mmlpnb3xKxa3im1C1veCf8DGGpVMoMUHrzfqQ2zlBwM4OYg2eyv3nJ1uIBEqI8\n",
       "mg9KcAAAAH5Bn4xFESwz/wFvTU4Fvn2qI/rtmADKOYg+gQJ4RAyiPbaa1uk5nP47dhwJRjYT9QrV\n",
       "Y/OuRCNhFLv/4NXsSZ6f5Rmrpmcp/e6G267WEZ3GeNkv8oM8qMlbIn1p4Wz5ameMkN6g1isiRYM0\n",
       "NIaoKfZA57V7l1UEo934yz9gxxgAAAAaAZ+rdEK/Ao/S03QeZgFHRzWX8biU6Pram2cAAABYAZ+t\n",
       "akK/ApFh30NgSNoANOmWXAGAp0U/S4DP1q/+YSSH6y74cx86+XLt06VlwVNq+deD8gmV/+lhmdol\n",
       "gTbAwNYN3Q3TkY6W1/JVSlfNxSc6R5KXP6cDZwAAAM5Bm7JJqEFsmUwIf//+qZYAthtKQAZauR0p\n",
       "2DQxs5hKDyp/jY2gC/8FQRxlPUnd7lKubfaQk0ar/dSPf+GN6BleGSfGw/HarJaUjbD079N/gVJj\n",
       "7z7g0ldEd0bjDopY7rUX/19B2PXDWyLgbrelFPetlNHd7a+mDIRjq4A0ZAc5RkUM6NlBQnR/SRBU\n",
       "IOOmNhNIkmQ+SHqt7Sw7H0pCtyDb/dX2EUs03voNz3V2LEeUFdRb3k5+nDfglw1CBAS3bJ5PFizZ\n",
       "xCN499QJaM4u4QAAAC5Bn9BFFSwz/wFvTU419cccQq3AadLSF3kgya3XsQTfosIoABepnkjXKHYq\n",
       "3h6YAAAALQGf73RCvwKP0LyJFX0TJXtiU2ABqsdAGMD+CxVnhT+EUul22Dj8+pBUs8C7gAAAAGEB\n",
       "n/FqQr8CkV/r8NoX4cQn56AEHV1Gmvjz037ETw/Iwz1cen+23qd9cIP8ZMdiZ1VckYmSUn6jjY9/\n",
       "cLOt5FIH1dIcOV9/RiMenl3jsr4m9yXLDkx0wQYYS25BALLVBkzBAAAArEGb9kmoQWyZTAh3//6p\n",
       "lgC2LoFT7274gm+QV0Ogbuf4LQmkAo8fv+/zIHSU7DaiWdNdCuYDMcz2JEj0Zu//eAU9jOzrpu1g\n",
       "XONOyfkGWutkulgSpYEoVCpNevn6jVOmpR5lOlq5Grur7gUAa+Zw1UCB/fy38zOuZVVFtLLcG8u4\n",
       "ImIWDAJp6+DPLPPz0flkovAkiqWPtKgTsarTDELYGhemLaH0ZDjMNVJ4vIAAAAArQZ4URRUsM/8B\n",
       "b01ONNR0wUdWNgedwULrktCKJ7Rg0ILM1gQ2puP9LwaXgAAAADoBnjN0Qr8Cj9Db0ir8UHZ9upV3\n",
       "VwPpm97HgBn4uBQkUu3tUGYeNHYhUTLPCYccNh5cVoLxDE7L0DAhAAAAYgGeNWpCvwKRX7tVZZ3i\n",
       "SJIwA/9qPXQENVv4E68dWRSuX/zgM3EM2PT141cfvLSizb6YV+ar2irywdXLGO9rjVVpZiDnu0Tn\n",
       "JulZsYWAvbpHtMQeEmeGOaB/xv2td5QuGEvAAAAAx0GaOkmoQWyZTAh3//6plgCm5vIPiE4IQ8Wu\n",
       "zNIeoKQVs3HjEqZ3ycetTWzPlyRp2X8+iXYq2ZuFn2d5towosOMt813RBcJSgmIoS4ap041apd2D\n",
       "2DYzV4OwOw/PY5iKVQ5wDPQL6p3cO+F/VVTJEXQl/B7Cx5htZtELvwYg9DhLYAoUKb8GUJudPQaK\n",
       "IOer8dbz7n/k/RL7soMlhafb9URm/vFtBARCrYHmH5gegxGt31SJB9ByRFgazY+vGPH5qJEEDpMw\n",
       "m4EAAABPQZ5YRRUsM/8Bb01ONm7CK4ABzh/ioj4Qtezfw7yHzKPAvo4Wihg4UF06ywvSBevT74fx\n",
       "x7Pg6GWbp8nOxcnUaPGNuvP1uRCj5/LJk54CtwAAAE0Bnnd0Qr8Cj9Nagodngx5WQEP7QAZ30f/a\n",
       "8ym863EZvfXHp/tt6nfXF+CAkk8raTv/pYtxA0OEeWuvPR3ieNEfjrV8eZGl98hZvjSPgAAAAF8B\n",
       "nnlqQr8CkWJkoR64Zkp65WKkxRfAC2YgacIUCUdinIfgkHlVm3Z274MmuMAmBwdX8ESo/BH/k44+\n",
       "gPPy/ZHYY5VJp4D1SB+Ai+Yxrt8QL8iRWNzXPG4Z04yTFxgGzQAAAJRBmntJqEFsmUwIf//+qZYA\n",
       "sed/4CKfPYAI8p7KSJzIU1WjNad3FOfOYoRLeIGH47ZSZsYsBtM2eoKnAp5ivaGWvZN24oBndhf8\n",
       "invoHZZtaurmC/FXU3S/NAaulw763gJ1fuj/ebM7vJHmqJB0XqLacrUm4rwmh2cJsAhJMGidJAiM\n",
       "std0ehA5T0mjSLXz2vjzAN9gAAAA8kGan0nhClJlMCH//qmWALwQbAABIAXn8OSHX+VoxIMyvBxC\n",
       "Xdse35vcIhZnJZnlX+H/gZKASiUY9XIsqPqSOq0r7FzBgYCDd12ljIQkBlU5EYafWxYmx3T3eH+A\n",
       "HKHrunlOzgxa1rwS3r4JM+Yo7xhaBfAhK1QS6Q+RoTZ00fgAbaKj28reO8Q2ktNQm+BLyTPSd2OQ\n",
       "TI1p1wLBQwBwIwB21earQVMQern6AUNd7+0u0HczHtesb2S+9+WpDXsbHGAsYjpJmvsrlkU5phoi\n",
       "xtuuoyX1NT/0JWppCd8kpoSeAUAY09rdBWXsTYvgOlovLUk5AAAAPEGevUU0TDP/AW8ra2eCxrEd\n",
       "TEgAwp8lI/DDlnQoRYIVodGQRkQHrTmp/hz+QzxNqobPfggvrpHEr52DZwAAAEABntx0Qr8Cj9MU\n",
       "tAKToQAgJCb4wMBTop+lwfxCUiWLU+E+EYeKOqKDUwwpHzMdytwZLjFy23tq1AItkX46sDAgAAAA\n",
       "WwGe3mpCvwKRYh/+kVBqRPFx4yAEBJsDgA5Tg53Gz//HilZrBoGti00P/ZEoB29wAl9soW74CiMF\n",
       "GLnJXzLsabb0j1nGtMMJPlLGeRnvkRk6ASxKH+oEmzpSReQAAAD2QZrDSahBaJlMCH///qmWALwm\n",
       "chp+ZSREgBETPxfuq0liiMtjp2zWSrMj42ju+TVPNx3/yT6P7lBU4Y1hHEItDYdvFGDqUcbsWlOX\n",
       "+EDs34tIH6SLFvhNloXR5O6X/7/AYlkUwUQMYT84oVfqwCcGZbxAwAbHWTg3t+cunn2BV7KfK/jD\n",
       "dMF/7SIfpPd5RFztdchkfCTCSfo3G1OAfzAUsFeQ7NcGhnNrpTox5b0G4J+Y9H500BPdZY/KbF23\n",
       "4uWhQ3ZVbihLF73dOAOvdnbwbdbhNfxJVFFkhgqQEmX9w8OR6cxUKsC24OttH6LqOV25HL5wwPSB\n",
       "AAAAikGe4UURLDP/AW9NTl8RZLPwn7uIOTt/iAAc5W4eFFdz7E8fZr8UwHNngjnDBJe41yU0bvbq\n",
       "p/DG6ihWRVxDzdLaDjEYJBG0q3IjsUonnYWJUQoZrASkwmff/5BV/MBOqh5Gh+5c5zSkT+1k7LJ8\n",
       "WsPJUmBqAsYrL9cA4WvaxOldxA1RlPonKM5ZYAAAAC8BnwB0Qr8Cj9DeCSr6JaVJNQhvAqK+AC8x\n",
       "gQ7/dWAwYOPXnEI/u3Knrt+S9spjGwAAAD0BnwJqQr8CkV/oy/WADxp3kVePqwAqf7/Oe/ubX1sy\n",
       "7GJXWVvhYe+VAoCkCztmegEwLWnOzUFaYlKtBTlgAAADQEGbB0moQWyZTAh///6plgCrLom9TpzZ\n",
       "9gdHocv+7y8AFP6Qsb1RXYL/6XiDW6c8hWsudySaTJZFhc+Y36VehrLo77b0cK1v7t7es0NBqfRo\n",
       "XlMepwSf80/+0NFWBeuxqkIsEgu40qPxkeHQEcQ44bFGbvKiM3CdhOZxn5LkYpxxHLzGtv5bQ1ae\n",
       "Kmp8fYI+Yv/2NqOKh6eH5Prr5vtrYY/a7XSQpdm+lS9AimsqMfc5b5Uv4lPuJM1NN8CEYPHuIQZR\n",
       "4skMkL4jUtgjxotkYdQp/GrZ3JU1LESBgElXOoSKmDPuINp3zkg44wFXWcLNchqz5BbNZGE81wR7\n",
       "Tfp/fAOHh7Z3HjNBAKtcjlgHYBTsoCQSAh/Vv21AqucO2jsrjOt6Tz06+51GAnlJ1i/nz2X2roHp\n",
       "ZLtCAhVOs4JlIzZAN7V/lH4ovIDg9QB92Jc2gKw/dum5Ak8O9YDL4F2uVXh960h45zW7XnR/yqiA\n",
       "xrp6Ypm/Z5nWL7Hydk03DdhKY1VNIZMif7Hb5cmxVbUXtJurII6Rc5BveXH2MJRKkR44L8gS2pnu\n",
       "sA+I8eTdxkfiC/1ZvLEaCryxdmRSryjklOw8uXqYtIR1UNoGR4t24NxIn6tq1NXu+fDipsjS+1iE\n",
       "Wcj8fiECj1FQ49JM6Fo6LdZ+ecCOznZnCSkBP4QlQmdVud8r4WVFduZl+nYlIcjsDCQFRInjkhjK\n",
       "1YOrOVAGvF56yqW7XW82GFOjHpSmjR499UBmG1WLuEN/nldWnsDW6r6q4gjU+Hs7+w2fTqm3oAGS\n",
       "dT7CyKiZRvSr5seWqqXGK/Kl56iKs+gDKIA4lP2iQZWikYdiWfoIWkj0DmswHhQyW/cezGZtM+BY\n",
       "hVqbquRUk4WTUecb5lGyXCh+3uUgpzR4+iKhrZM/TI9kfo1KIDyykAJAJM3jDh9DpdRHmiEV8PWx\n",
       "etDRvG1ix80UEbQFT0av0luEJ1JEhK3eJNKd0g+9egZkMrNVzPgFQTxuWa1ejRcs6sqzgUSWLyDJ\n",
       "vAq87c6cBVY/oO7muTSObpiAXZsbUGCymS+V84b0WpucnZaga1YgAAf5nkM4AGCEAB3NdASwBZ/3\n",
       "Ci67cZv+rCgbPBsAAAApQZ8lRRUsM/8Bb01N8dx7mYmGCbzgx9qtA4OrRA7DvHfaAnFVZkXvGOEA\n",
       "AAAfAZ9EdEK/Ao/Q2LXnTCZWSVf3jGjXgK5/6WuuO4gA0QAAABgBn0ZqQr8CkV+vgxpOd+JU+zZi\n",
       "25aHF/0AAAA8QZtLSahBbJlMCHf//qmWAAK4FMqADf0d/Wjoa7WtlpO6KKKFeOxxjgTfYkuxacOm\n",
       "P2Dcq/iciIsZGJGAAAAAHkGfaUUVLDP/AW9NSa15JIbFJn/ubghlJuVVk0gM+AAAAC0Bn4h0Qr8C\n",
       "j9CfgSjjsdMEL1Fk2icPstVLiJdXNACvC01WWkt1eHG1LTmzH90AAAAmAZ+KakK/ApFfr4MaTmRD\n",
       "BCw9A0A0Y0AnmwXEfKDNcClFMfvGSyoAAAAVQZuPSahBbJlMCHf//qmWAAADAPCAAAAAGkGfrUUV\n",
       "LDP/AW9NSa15JaoKTODZSrcEDZAhAAAALQGfzHRCvwKP0J+BKOOx0wRFExBKUBUXbfPY/F1IAV4X\n",
       "mqzL8Vuf3uhtWueWVQAAACwBn85qQr8CkV+vgxpOZEMELD0DQDRjQmvw0D/gBHrLgzjva9XLxs22\n",
       "OXJZUQAAABVBm9NJqEFsmUwId//+qZYAAAMA8IAAAAAaQZ/xRRUsM/8Bb01JrXklqgpM4NlKtwQN\n",
       "kCAAAAAtAZ4QdEK/Ao/Qn4Eo47HTBEUTEEpQFRdt89j8XUgBXhearMvxW5/e6G1a55ZVAAAALAGe\n",
       "EmpCvwKRX6+DGk5kQwQsPQNANGNCa/DQP+AEesuDOO9r1cvGzbY5cllQAAAAE0GaF0moQWyZTAhn\n",
       "//6eEAAAB0wAAAAaQZ41RRUsM/8Bb01JrXklqgpM4NlKtwQNkCEAAAAtAZ5UdEK/Ao/Qn4Eo47HT\n",
       "BEUTEEpQFRdt89j8XUgBXhearMvxW5/e6G1a55ZUAAAALAGeVmpCvwKRX6+DGk5kQwQsPQNANGNC\n",
       "a/DQP+AEesuDOO9r1cvGzbY5cllRAAAAKUGaWEmoQWyZTAhX//44QABUUFj1VhlIze8Ll04sRCd9\n",
       "el9PjdG0LEXBAAAIum1vb3YAAABsbXZoZAAAAAAAAAAAAAAAAAAAA+gAABeiAAEAAAEAAAAAAAAA\n",
       "AAAAAAABAAAAAAAAAAAAAAAAAAAAAQAAAAAAAAAAAAAAAAAAQAAAAAAAAAAAAAAAAAAAAAAAAAAA\n",
       "AAAAAAAAAAAAAAIAAAfkdHJhawAAAFx0a2hkAAAAAwAAAAAAAAAAAAAAAQAAAAAAABeiAAAAAAAA\n",
       "AAAAAAAAAAAAAAABAAAAAAAAAAAAAAAAAAAAAQAAAAAAAAAAAAAAAAAAQAAAAAGwAAABIAAAAAAA\n",
       "JGVkdHMAAAAcZWxzdAAAAAAAAAABAAAXogAABAAAAQAAAAAHXG1kaWEAAAAgbWRoZAAAAAAAAAAA\n",
       "AAAAAAAAKAAAAPIAVcQAAAAAAC1oZGxyAAAAAAAAAAB2aWRlAAAAAAAAAAAAAAAAVmlkZW9IYW5k\n",
       "bGVyAAAABwdtaW5mAAAAFHZtaGQAAAABAAAAAAAAAAAAAAAkZGluZgAAABxkcmVmAAAAAAAAAAEA\n",
       "AAAMdXJsIAAAAAEAAAbHc3RibAAAALNzdHNkAAAAAAAAAAEAAACjYXZjMQAAAAAAAAABAAAAAAAA\n",
       "AAAAAAAAAAAAAAGwASAASAAAAEgAAAAAAAAAAQAAAAAAAAAAAAAAAAAAAAAAAAAAAAAAAAAAAAAA\n",
       "AAAAABj//wAAADFhdmNDAWQAFf/hABhnZAAVrNlBsJaEAAADAAQAAAMAoDxYtlgBAAZo6+PLIsAA\n",
       "AAAcdXVpZGtoQPJfJE/FujmlG88DI/MAAAAAAAAAGHN0dHMAAAAAAAAAAQAAAHkAAAIAAAAAFHN0\n",
       "c3MAAAAAAAAAAQAAAAEAAAO4Y3R0cwAAAAAAAAB1AAAAAwAABAAAAAABAAAKAAAAAAEAAAQAAAAA\n",
       "AQAAAAAAAAABAAACAAAAAAIAAAQAAAAAAQAACgAAAAABAAAEAAAAAAEAAAAAAAAAAQAAAgAAAAAB\n",
       "AAAEAAAAAAEAAAoAAAAAAQAABAAAAAABAAAAAAAAAAEAAAIAAAAAAQAABAAAAAABAAAKAAAAAAEA\n",
       "AAQAAAAAAQAAAAAAAAABAAACAAAAAAEAAAoAAAAAAQAABAAAAAABAAAAAAAAAAEAAAIAAAAAAQAA\n",
       "CgAAAAABAAAEAAAAAAEAAAAAAAAAAQAAAgAAAAABAAAKAAAAAAEAAAQAAAAAAQAAAAAAAAABAAAC\n",
       "AAAAAAEAAAoAAAAAAQAABAAAAAABAAAAAAAAAAEAAAIAAAAAAQAABAAAAAABAAAKAAAAAAEAAAQA\n",
       "AAAAAQAAAAAAAAABAAACAAAAAAEAAAoAAAAAAQAABAAAAAABAAAAAAAAAAEAAAIAAAAAAQAACgAA\n",
       "AAABAAAEAAAAAAEAAAAAAAAAAQAAAgAAAAABAAAKAAAAAAEAAAQAAAAAAQAAAAAAAAABAAACAAAA\n",
       "AAEAAAoAAAAAAQAABAAAAAABAAAAAAAAAAEAAAIAAAAAAgAABAAAAAABAAAKAAAAAAEAAAQAAAAA\n",
       "AQAAAAAAAAABAAACAAAAAAEAAAoAAAAAAQAABAAAAAABAAAAAAAAAAEAAAIAAAAAAQAABAAAAAAB\n",
       "AAAKAAAAAAEAAAQAAAAAAQAAAAAAAAABAAACAAAAAAEAAAoAAAAAAQAABAAAAAABAAAAAAAAAAEA\n",
       "AAIAAAAAAQAACgAAAAABAAAEAAAAAAEAAAAAAAAAAQAAAgAAAAABAAAKAAAAAAEAAAQAAAAAAQAA\n",
       "AAAAAAABAAACAAAAAAEAAAoAAAAAAQAABAAAAAABAAAAAAAAAAEAAAIAAAAAAQAABAAAAAABAAAK\n",
       "AAAAAAEAAAQAAAAAAQAAAAAAAAABAAACAAAAAAEAAAoAAAAAAQAABAAAAAABAAAAAAAAAAEAAAIA\n",
       "AAAAAQAACgAAAAABAAAEAAAAAAEAAAAAAAAAAQAAAgAAAAABAAAKAAAAAAEAAAQAAAAAAQAAAAAA\n",
       "AAABAAACAAAAAAEAAAoAAAAAAQAABAAAAAABAAAAAAAAAAEAAAIAAAAAAQAACgAAAAABAAAEAAAA\n",
       "AAEAAAAAAAAAAQAAAgAAAAABAAAKAAAAAAEAAAQAAAAAAQAAAAAAAAABAAACAAAAAAEAAAQAAAAA\n",
       "HHN0c2MAAAAAAAAAAQAAAAEAAAB5AAAAAQAAAfhzdHN6AAAAAAAAAAAAAAB5AAAEkwAAAKEAAABV\n",
       "AAAAmgAAAF0AAAAmAAAALQAAAFMAAABBAAAAkQAAAC0AAAAuAAAAMgAAADwAAABeAAAAQQAAACoA\n",
       "AAAzAAAAqgAAAZQAAABlAAAAHgAAAF8AAACqAAAArgAAACwAAAAsAAAAsgAAAEwAAAAvAAAAMwAA\n",
       "ALcAAACBAAAANgAAADEAAAEXAAAAhAAAAC4AAAAdAAAAqgAAAIMAAAAmAAAAQwAAAEkAAABXAAAA\n",
       "JgAAAEUAAABVAAAA2AAAAHgAAABOAAAAPAAAAN0AAABGAAAAVQAAAFoAAACPAAAANAAAAFAAAAA1\n",
       "AAAAeAAAAEEAAACdAAAAegAAACsAAAA4AAAAkwAAAE0AAABAAAAAKwAAAGUAAACvAAAAQAAAACsA\n",
       "AAAxAAABJgAAAIIAAAAeAAAAXAAAANIAAAAyAAAAMQAAAGUAAACwAAAALwAAAD4AAABmAAAAywAA\n",
       "AFMAAABRAAAAYwAAAJgAAAD2AAAAQAAAAEQAAABfAAAA+gAAAI4AAAAzAAAAQQAAA0QAAAAtAAAA\n",
       "IwAAABwAAABAAAAAIgAAADEAAAAqAAAAGQAAAB4AAAAxAAAAMAAAABkAAAAeAAAAMQAAADAAAAAX\n",
       "AAAAHgAAADEAAAAwAAAALQAAABRzdGNvAAAAAAAAAAEAAAAsAAAAYnVkdGEAAABabWV0YQAAAAAA\n",
       "AAAhaGRscgAAAAAAAAAAbWRpcmFwcGwAAAAAAAAAAAAAAAAtaWxzdAAAACWpdG9vAAAAHWRhdGEA\n",
       "AAABAAAAAExhdmY1Ni40MC4xMDE=\n",
       "\">\n",
       "  Your browser does not support the video tag.\n",
       "</video>"
      ],
      "text/plain": [
       "<IPython.core.display.HTML object>"
      ]
     },
     "execution_count": 23,
     "metadata": {},
     "output_type": "execute_result"
    }
   ],
   "source": [
    "HTML(ani.to_html5_video())"
   ]
  },
  {
   "cell_type": "code",
   "execution_count": null,
   "metadata": {
    "collapsed": true
   },
   "outputs": [],
   "source": []
  }
 ],
 "metadata": {
  "kernelspec": {
   "display_name": "Python (Tensorflow)",
   "language": "python",
   "name": "tf"
  },
  "language_info": {
   "codemirror_mode": {
    "name": "ipython",
    "version": 3
   },
   "file_extension": ".py",
   "mimetype": "text/x-python",
   "name": "python",
   "nbconvert_exporter": "python",
   "pygments_lexer": "ipython3",
   "version": "3.6.2"
  }
 },
 "nbformat": 4,
 "nbformat_minor": 2
}
